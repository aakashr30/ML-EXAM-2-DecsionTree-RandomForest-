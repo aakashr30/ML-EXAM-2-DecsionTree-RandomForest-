{
  "nbformat": 4,
  "nbformat_minor": 0,
  "metadata": {
    "colab": {
      "name": "ML2 Exam(AAKASH R).ipynb",
      "provenance": [],
      "authorship_tag": "ABX9TyMJZjcOdfWuVlPEUVgBZig3",
      "include_colab_link": true
    },
    "kernelspec": {
      "name": "python3",
      "display_name": "Python 3"
    },
    "language_info": {
      "name": "python"
    }
  },
  "cells": [
    {
      "cell_type": "markdown",
      "metadata": {
        "id": "view-in-github",
        "colab_type": "text"
      },
      "source": [
        "<a href=\"https://colab.research.google.com/github/aakashr30/ML-EXAM-2-DecsionTree-RandomForest-/blob/main/ML2_Exam(AAKASH_R).ipynb\" target=\"_parent\"><img src=\"https://colab.research.google.com/assets/colab-badge.svg\" alt=\"Open In Colab\"/></a>"
      ]
    },
    {
      "cell_type": "code",
      "execution_count": 324,
      "metadata": {
        "id": "IVojnNBTUNQd"
      },
      "outputs": [],
      "source": [
        "import pandas as pd"
      ]
    },
    {
      "cell_type": "code",
      "source": [
        "data = pd.read_csv(\"/content/admission.csv\")\n",
        "data"
      ],
      "metadata": {
        "colab": {
          "base_uri": "https://localhost:8080/",
          "height": 424
        },
        "id": "r8sNSp5GvCpE",
        "outputId": "27366bec-87e3-4386-8bb6-4aa82bf5a603"
      },
      "execution_count": 325,
      "outputs": [
        {
          "output_type": "execute_result",
          "data": {
            "text/plain": [
              "     Serial No.  GRE Score  TOEFL Score  University Rating  SOP  LOR   CGPA  \\\n",
              "0             1        337          118                  4  4.5   4.5  9.65   \n",
              "1             2        324          107                  4  4.0   4.5  8.87   \n",
              "2             3        316          104                  3  3.0   3.5  8.00   \n",
              "3             4        322          110                  3  3.5   2.5  8.67   \n",
              "4             5        314          103                  2  2.0   3.0  8.21   \n",
              "..          ...        ...          ...                ...  ...   ...   ...   \n",
              "495         496        332          108                  5  4.5   4.0  9.02   \n",
              "496         497        337          117                  5  5.0   5.0  9.87   \n",
              "497         498        330          120                  5  4.5   5.0  9.56   \n",
              "498         499        312          103                  4  4.0   5.0  8.43   \n",
              "499         500        327          113                  4  4.5   4.5  9.04   \n",
              "\n",
              "     Research  Chance of Admit   \n",
              "0           1              0.92  \n",
              "1           1              0.76  \n",
              "2           1              0.72  \n",
              "3           1              0.80  \n",
              "4           0              0.65  \n",
              "..        ...               ...  \n",
              "495         1              0.87  \n",
              "496         1              0.96  \n",
              "497         1              0.93  \n",
              "498         0              0.73  \n",
              "499         0              0.84  \n",
              "\n",
              "[500 rows x 9 columns]"
            ],
            "text/html": [
              "\n",
              "  <div id=\"df-4f28f6dd-9eb9-4c01-8c72-e35c3f213e48\">\n",
              "    <div class=\"colab-df-container\">\n",
              "      <div>\n",
              "<style scoped>\n",
              "    .dataframe tbody tr th:only-of-type {\n",
              "        vertical-align: middle;\n",
              "    }\n",
              "\n",
              "    .dataframe tbody tr th {\n",
              "        vertical-align: top;\n",
              "    }\n",
              "\n",
              "    .dataframe thead th {\n",
              "        text-align: right;\n",
              "    }\n",
              "</style>\n",
              "<table border=\"1\" class=\"dataframe\">\n",
              "  <thead>\n",
              "    <tr style=\"text-align: right;\">\n",
              "      <th></th>\n",
              "      <th>Serial No.</th>\n",
              "      <th>GRE Score</th>\n",
              "      <th>TOEFL Score</th>\n",
              "      <th>University Rating</th>\n",
              "      <th>SOP</th>\n",
              "      <th>LOR</th>\n",
              "      <th>CGPA</th>\n",
              "      <th>Research</th>\n",
              "      <th>Chance of Admit</th>\n",
              "    </tr>\n",
              "  </thead>\n",
              "  <tbody>\n",
              "    <tr>\n",
              "      <th>0</th>\n",
              "      <td>1</td>\n",
              "      <td>337</td>\n",
              "      <td>118</td>\n",
              "      <td>4</td>\n",
              "      <td>4.5</td>\n",
              "      <td>4.5</td>\n",
              "      <td>9.65</td>\n",
              "      <td>1</td>\n",
              "      <td>0.92</td>\n",
              "    </tr>\n",
              "    <tr>\n",
              "      <th>1</th>\n",
              "      <td>2</td>\n",
              "      <td>324</td>\n",
              "      <td>107</td>\n",
              "      <td>4</td>\n",
              "      <td>4.0</td>\n",
              "      <td>4.5</td>\n",
              "      <td>8.87</td>\n",
              "      <td>1</td>\n",
              "      <td>0.76</td>\n",
              "    </tr>\n",
              "    <tr>\n",
              "      <th>2</th>\n",
              "      <td>3</td>\n",
              "      <td>316</td>\n",
              "      <td>104</td>\n",
              "      <td>3</td>\n",
              "      <td>3.0</td>\n",
              "      <td>3.5</td>\n",
              "      <td>8.00</td>\n",
              "      <td>1</td>\n",
              "      <td>0.72</td>\n",
              "    </tr>\n",
              "    <tr>\n",
              "      <th>3</th>\n",
              "      <td>4</td>\n",
              "      <td>322</td>\n",
              "      <td>110</td>\n",
              "      <td>3</td>\n",
              "      <td>3.5</td>\n",
              "      <td>2.5</td>\n",
              "      <td>8.67</td>\n",
              "      <td>1</td>\n",
              "      <td>0.80</td>\n",
              "    </tr>\n",
              "    <tr>\n",
              "      <th>4</th>\n",
              "      <td>5</td>\n",
              "      <td>314</td>\n",
              "      <td>103</td>\n",
              "      <td>2</td>\n",
              "      <td>2.0</td>\n",
              "      <td>3.0</td>\n",
              "      <td>8.21</td>\n",
              "      <td>0</td>\n",
              "      <td>0.65</td>\n",
              "    </tr>\n",
              "    <tr>\n",
              "      <th>...</th>\n",
              "      <td>...</td>\n",
              "      <td>...</td>\n",
              "      <td>...</td>\n",
              "      <td>...</td>\n",
              "      <td>...</td>\n",
              "      <td>...</td>\n",
              "      <td>...</td>\n",
              "      <td>...</td>\n",
              "      <td>...</td>\n",
              "    </tr>\n",
              "    <tr>\n",
              "      <th>495</th>\n",
              "      <td>496</td>\n",
              "      <td>332</td>\n",
              "      <td>108</td>\n",
              "      <td>5</td>\n",
              "      <td>4.5</td>\n",
              "      <td>4.0</td>\n",
              "      <td>9.02</td>\n",
              "      <td>1</td>\n",
              "      <td>0.87</td>\n",
              "    </tr>\n",
              "    <tr>\n",
              "      <th>496</th>\n",
              "      <td>497</td>\n",
              "      <td>337</td>\n",
              "      <td>117</td>\n",
              "      <td>5</td>\n",
              "      <td>5.0</td>\n",
              "      <td>5.0</td>\n",
              "      <td>9.87</td>\n",
              "      <td>1</td>\n",
              "      <td>0.96</td>\n",
              "    </tr>\n",
              "    <tr>\n",
              "      <th>497</th>\n",
              "      <td>498</td>\n",
              "      <td>330</td>\n",
              "      <td>120</td>\n",
              "      <td>5</td>\n",
              "      <td>4.5</td>\n",
              "      <td>5.0</td>\n",
              "      <td>9.56</td>\n",
              "      <td>1</td>\n",
              "      <td>0.93</td>\n",
              "    </tr>\n",
              "    <tr>\n",
              "      <th>498</th>\n",
              "      <td>499</td>\n",
              "      <td>312</td>\n",
              "      <td>103</td>\n",
              "      <td>4</td>\n",
              "      <td>4.0</td>\n",
              "      <td>5.0</td>\n",
              "      <td>8.43</td>\n",
              "      <td>0</td>\n",
              "      <td>0.73</td>\n",
              "    </tr>\n",
              "    <tr>\n",
              "      <th>499</th>\n",
              "      <td>500</td>\n",
              "      <td>327</td>\n",
              "      <td>113</td>\n",
              "      <td>4</td>\n",
              "      <td>4.5</td>\n",
              "      <td>4.5</td>\n",
              "      <td>9.04</td>\n",
              "      <td>0</td>\n",
              "      <td>0.84</td>\n",
              "    </tr>\n",
              "  </tbody>\n",
              "</table>\n",
              "<p>500 rows × 9 columns</p>\n",
              "</div>\n",
              "      <button class=\"colab-df-convert\" onclick=\"convertToInteractive('df-4f28f6dd-9eb9-4c01-8c72-e35c3f213e48')\"\n",
              "              title=\"Convert this dataframe to an interactive table.\"\n",
              "              style=\"display:none;\">\n",
              "        \n",
              "  <svg xmlns=\"http://www.w3.org/2000/svg\" height=\"24px\"viewBox=\"0 0 24 24\"\n",
              "       width=\"24px\">\n",
              "    <path d=\"M0 0h24v24H0V0z\" fill=\"none\"/>\n",
              "    <path d=\"M18.56 5.44l.94 2.06.94-2.06 2.06-.94-2.06-.94-.94-2.06-.94 2.06-2.06.94zm-11 1L8.5 8.5l.94-2.06 2.06-.94-2.06-.94L8.5 2.5l-.94 2.06-2.06.94zm10 10l.94 2.06.94-2.06 2.06-.94-2.06-.94-.94-2.06-.94 2.06-2.06.94z\"/><path d=\"M17.41 7.96l-1.37-1.37c-.4-.4-.92-.59-1.43-.59-.52 0-1.04.2-1.43.59L10.3 9.45l-7.72 7.72c-.78.78-.78 2.05 0 2.83L4 21.41c.39.39.9.59 1.41.59.51 0 1.02-.2 1.41-.59l7.78-7.78 2.81-2.81c.8-.78.8-2.07 0-2.86zM5.41 20L4 18.59l7.72-7.72 1.47 1.35L5.41 20z\"/>\n",
              "  </svg>\n",
              "      </button>\n",
              "      \n",
              "  <style>\n",
              "    .colab-df-container {\n",
              "      display:flex;\n",
              "      flex-wrap:wrap;\n",
              "      gap: 12px;\n",
              "    }\n",
              "\n",
              "    .colab-df-convert {\n",
              "      background-color: #E8F0FE;\n",
              "      border: none;\n",
              "      border-radius: 50%;\n",
              "      cursor: pointer;\n",
              "      display: none;\n",
              "      fill: #1967D2;\n",
              "      height: 32px;\n",
              "      padding: 0 0 0 0;\n",
              "      width: 32px;\n",
              "    }\n",
              "\n",
              "    .colab-df-convert:hover {\n",
              "      background-color: #E2EBFA;\n",
              "      box-shadow: 0px 1px 2px rgba(60, 64, 67, 0.3), 0px 1px 3px 1px rgba(60, 64, 67, 0.15);\n",
              "      fill: #174EA6;\n",
              "    }\n",
              "\n",
              "    [theme=dark] .colab-df-convert {\n",
              "      background-color: #3B4455;\n",
              "      fill: #D2E3FC;\n",
              "    }\n",
              "\n",
              "    [theme=dark] .colab-df-convert:hover {\n",
              "      background-color: #434B5C;\n",
              "      box-shadow: 0px 1px 3px 1px rgba(0, 0, 0, 0.15);\n",
              "      filter: drop-shadow(0px 1px 2px rgba(0, 0, 0, 0.3));\n",
              "      fill: #FFFFFF;\n",
              "    }\n",
              "  </style>\n",
              "\n",
              "      <script>\n",
              "        const buttonEl =\n",
              "          document.querySelector('#df-4f28f6dd-9eb9-4c01-8c72-e35c3f213e48 button.colab-df-convert');\n",
              "        buttonEl.style.display =\n",
              "          google.colab.kernel.accessAllowed ? 'block' : 'none';\n",
              "\n",
              "        async function convertToInteractive(key) {\n",
              "          const element = document.querySelector('#df-4f28f6dd-9eb9-4c01-8c72-e35c3f213e48');\n",
              "          const dataTable =\n",
              "            await google.colab.kernel.invokeFunction('convertToInteractive',\n",
              "                                                     [key], {});\n",
              "          if (!dataTable) return;\n",
              "\n",
              "          const docLinkHtml = 'Like what you see? Visit the ' +\n",
              "            '<a target=\"_blank\" href=https://colab.research.google.com/notebooks/data_table.ipynb>data table notebook</a>'\n",
              "            + ' to learn more about interactive tables.';\n",
              "          element.innerHTML = '';\n",
              "          dataTable['output_type'] = 'display_data';\n",
              "          await google.colab.output.renderOutput(dataTable, element);\n",
              "          const docLink = document.createElement('div');\n",
              "          docLink.innerHTML = docLinkHtml;\n",
              "          element.appendChild(docLink);\n",
              "        }\n",
              "      </script>\n",
              "    </div>\n",
              "  </div>\n",
              "  "
            ]
          },
          "metadata": {},
          "execution_count": 325
        }
      ]
    },
    {
      "cell_type": "code",
      "source": [
        "data=data.drop(['Serial No.'],axis=1)\n",
        "data"
      ],
      "metadata": {
        "colab": {
          "base_uri": "https://localhost:8080/",
          "height": 424
        },
        "id": "9Sv4iptNEfi_",
        "outputId": "e2c0912b-cf62-4e02-b378-34659d844a7d"
      },
      "execution_count": 326,
      "outputs": [
        {
          "output_type": "execute_result",
          "data": {
            "text/plain": [
              "     GRE Score  TOEFL Score  University Rating  SOP  LOR   CGPA  Research  \\\n",
              "0          337          118                  4  4.5   4.5  9.65         1   \n",
              "1          324          107                  4  4.0   4.5  8.87         1   \n",
              "2          316          104                  3  3.0   3.5  8.00         1   \n",
              "3          322          110                  3  3.5   2.5  8.67         1   \n",
              "4          314          103                  2  2.0   3.0  8.21         0   \n",
              "..         ...          ...                ...  ...   ...   ...       ...   \n",
              "495        332          108                  5  4.5   4.0  9.02         1   \n",
              "496        337          117                  5  5.0   5.0  9.87         1   \n",
              "497        330          120                  5  4.5   5.0  9.56         1   \n",
              "498        312          103                  4  4.0   5.0  8.43         0   \n",
              "499        327          113                  4  4.5   4.5  9.04         0   \n",
              "\n",
              "     Chance of Admit   \n",
              "0                0.92  \n",
              "1                0.76  \n",
              "2                0.72  \n",
              "3                0.80  \n",
              "4                0.65  \n",
              "..                ...  \n",
              "495              0.87  \n",
              "496              0.96  \n",
              "497              0.93  \n",
              "498              0.73  \n",
              "499              0.84  \n",
              "\n",
              "[500 rows x 8 columns]"
            ],
            "text/html": [
              "\n",
              "  <div id=\"df-4a92c513-3deb-419d-b763-042cbdc2fc8f\">\n",
              "    <div class=\"colab-df-container\">\n",
              "      <div>\n",
              "<style scoped>\n",
              "    .dataframe tbody tr th:only-of-type {\n",
              "        vertical-align: middle;\n",
              "    }\n",
              "\n",
              "    .dataframe tbody tr th {\n",
              "        vertical-align: top;\n",
              "    }\n",
              "\n",
              "    .dataframe thead th {\n",
              "        text-align: right;\n",
              "    }\n",
              "</style>\n",
              "<table border=\"1\" class=\"dataframe\">\n",
              "  <thead>\n",
              "    <tr style=\"text-align: right;\">\n",
              "      <th></th>\n",
              "      <th>GRE Score</th>\n",
              "      <th>TOEFL Score</th>\n",
              "      <th>University Rating</th>\n",
              "      <th>SOP</th>\n",
              "      <th>LOR</th>\n",
              "      <th>CGPA</th>\n",
              "      <th>Research</th>\n",
              "      <th>Chance of Admit</th>\n",
              "    </tr>\n",
              "  </thead>\n",
              "  <tbody>\n",
              "    <tr>\n",
              "      <th>0</th>\n",
              "      <td>337</td>\n",
              "      <td>118</td>\n",
              "      <td>4</td>\n",
              "      <td>4.5</td>\n",
              "      <td>4.5</td>\n",
              "      <td>9.65</td>\n",
              "      <td>1</td>\n",
              "      <td>0.92</td>\n",
              "    </tr>\n",
              "    <tr>\n",
              "      <th>1</th>\n",
              "      <td>324</td>\n",
              "      <td>107</td>\n",
              "      <td>4</td>\n",
              "      <td>4.0</td>\n",
              "      <td>4.5</td>\n",
              "      <td>8.87</td>\n",
              "      <td>1</td>\n",
              "      <td>0.76</td>\n",
              "    </tr>\n",
              "    <tr>\n",
              "      <th>2</th>\n",
              "      <td>316</td>\n",
              "      <td>104</td>\n",
              "      <td>3</td>\n",
              "      <td>3.0</td>\n",
              "      <td>3.5</td>\n",
              "      <td>8.00</td>\n",
              "      <td>1</td>\n",
              "      <td>0.72</td>\n",
              "    </tr>\n",
              "    <tr>\n",
              "      <th>3</th>\n",
              "      <td>322</td>\n",
              "      <td>110</td>\n",
              "      <td>3</td>\n",
              "      <td>3.5</td>\n",
              "      <td>2.5</td>\n",
              "      <td>8.67</td>\n",
              "      <td>1</td>\n",
              "      <td>0.80</td>\n",
              "    </tr>\n",
              "    <tr>\n",
              "      <th>4</th>\n",
              "      <td>314</td>\n",
              "      <td>103</td>\n",
              "      <td>2</td>\n",
              "      <td>2.0</td>\n",
              "      <td>3.0</td>\n",
              "      <td>8.21</td>\n",
              "      <td>0</td>\n",
              "      <td>0.65</td>\n",
              "    </tr>\n",
              "    <tr>\n",
              "      <th>...</th>\n",
              "      <td>...</td>\n",
              "      <td>...</td>\n",
              "      <td>...</td>\n",
              "      <td>...</td>\n",
              "      <td>...</td>\n",
              "      <td>...</td>\n",
              "      <td>...</td>\n",
              "      <td>...</td>\n",
              "    </tr>\n",
              "    <tr>\n",
              "      <th>495</th>\n",
              "      <td>332</td>\n",
              "      <td>108</td>\n",
              "      <td>5</td>\n",
              "      <td>4.5</td>\n",
              "      <td>4.0</td>\n",
              "      <td>9.02</td>\n",
              "      <td>1</td>\n",
              "      <td>0.87</td>\n",
              "    </tr>\n",
              "    <tr>\n",
              "      <th>496</th>\n",
              "      <td>337</td>\n",
              "      <td>117</td>\n",
              "      <td>5</td>\n",
              "      <td>5.0</td>\n",
              "      <td>5.0</td>\n",
              "      <td>9.87</td>\n",
              "      <td>1</td>\n",
              "      <td>0.96</td>\n",
              "    </tr>\n",
              "    <tr>\n",
              "      <th>497</th>\n",
              "      <td>330</td>\n",
              "      <td>120</td>\n",
              "      <td>5</td>\n",
              "      <td>4.5</td>\n",
              "      <td>5.0</td>\n",
              "      <td>9.56</td>\n",
              "      <td>1</td>\n",
              "      <td>0.93</td>\n",
              "    </tr>\n",
              "    <tr>\n",
              "      <th>498</th>\n",
              "      <td>312</td>\n",
              "      <td>103</td>\n",
              "      <td>4</td>\n",
              "      <td>4.0</td>\n",
              "      <td>5.0</td>\n",
              "      <td>8.43</td>\n",
              "      <td>0</td>\n",
              "      <td>0.73</td>\n",
              "    </tr>\n",
              "    <tr>\n",
              "      <th>499</th>\n",
              "      <td>327</td>\n",
              "      <td>113</td>\n",
              "      <td>4</td>\n",
              "      <td>4.5</td>\n",
              "      <td>4.5</td>\n",
              "      <td>9.04</td>\n",
              "      <td>0</td>\n",
              "      <td>0.84</td>\n",
              "    </tr>\n",
              "  </tbody>\n",
              "</table>\n",
              "<p>500 rows × 8 columns</p>\n",
              "</div>\n",
              "      <button class=\"colab-df-convert\" onclick=\"convertToInteractive('df-4a92c513-3deb-419d-b763-042cbdc2fc8f')\"\n",
              "              title=\"Convert this dataframe to an interactive table.\"\n",
              "              style=\"display:none;\">\n",
              "        \n",
              "  <svg xmlns=\"http://www.w3.org/2000/svg\" height=\"24px\"viewBox=\"0 0 24 24\"\n",
              "       width=\"24px\">\n",
              "    <path d=\"M0 0h24v24H0V0z\" fill=\"none\"/>\n",
              "    <path d=\"M18.56 5.44l.94 2.06.94-2.06 2.06-.94-2.06-.94-.94-2.06-.94 2.06-2.06.94zm-11 1L8.5 8.5l.94-2.06 2.06-.94-2.06-.94L8.5 2.5l-.94 2.06-2.06.94zm10 10l.94 2.06.94-2.06 2.06-.94-2.06-.94-.94-2.06-.94 2.06-2.06.94z\"/><path d=\"M17.41 7.96l-1.37-1.37c-.4-.4-.92-.59-1.43-.59-.52 0-1.04.2-1.43.59L10.3 9.45l-7.72 7.72c-.78.78-.78 2.05 0 2.83L4 21.41c.39.39.9.59 1.41.59.51 0 1.02-.2 1.41-.59l7.78-7.78 2.81-2.81c.8-.78.8-2.07 0-2.86zM5.41 20L4 18.59l7.72-7.72 1.47 1.35L5.41 20z\"/>\n",
              "  </svg>\n",
              "      </button>\n",
              "      \n",
              "  <style>\n",
              "    .colab-df-container {\n",
              "      display:flex;\n",
              "      flex-wrap:wrap;\n",
              "      gap: 12px;\n",
              "    }\n",
              "\n",
              "    .colab-df-convert {\n",
              "      background-color: #E8F0FE;\n",
              "      border: none;\n",
              "      border-radius: 50%;\n",
              "      cursor: pointer;\n",
              "      display: none;\n",
              "      fill: #1967D2;\n",
              "      height: 32px;\n",
              "      padding: 0 0 0 0;\n",
              "      width: 32px;\n",
              "    }\n",
              "\n",
              "    .colab-df-convert:hover {\n",
              "      background-color: #E2EBFA;\n",
              "      box-shadow: 0px 1px 2px rgba(60, 64, 67, 0.3), 0px 1px 3px 1px rgba(60, 64, 67, 0.15);\n",
              "      fill: #174EA6;\n",
              "    }\n",
              "\n",
              "    [theme=dark] .colab-df-convert {\n",
              "      background-color: #3B4455;\n",
              "      fill: #D2E3FC;\n",
              "    }\n",
              "\n",
              "    [theme=dark] .colab-df-convert:hover {\n",
              "      background-color: #434B5C;\n",
              "      box-shadow: 0px 1px 3px 1px rgba(0, 0, 0, 0.15);\n",
              "      filter: drop-shadow(0px 1px 2px rgba(0, 0, 0, 0.3));\n",
              "      fill: #FFFFFF;\n",
              "    }\n",
              "  </style>\n",
              "\n",
              "      <script>\n",
              "        const buttonEl =\n",
              "          document.querySelector('#df-4a92c513-3deb-419d-b763-042cbdc2fc8f button.colab-df-convert');\n",
              "        buttonEl.style.display =\n",
              "          google.colab.kernel.accessAllowed ? 'block' : 'none';\n",
              "\n",
              "        async function convertToInteractive(key) {\n",
              "          const element = document.querySelector('#df-4a92c513-3deb-419d-b763-042cbdc2fc8f');\n",
              "          const dataTable =\n",
              "            await google.colab.kernel.invokeFunction('convertToInteractive',\n",
              "                                                     [key], {});\n",
              "          if (!dataTable) return;\n",
              "\n",
              "          const docLinkHtml = 'Like what you see? Visit the ' +\n",
              "            '<a target=\"_blank\" href=https://colab.research.google.com/notebooks/data_table.ipynb>data table notebook</a>'\n",
              "            + ' to learn more about interactive tables.';\n",
              "          element.innerHTML = '';\n",
              "          dataTable['output_type'] = 'display_data';\n",
              "          await google.colab.output.renderOutput(dataTable, element);\n",
              "          const docLink = document.createElement('div');\n",
              "          docLink.innerHTML = docLinkHtml;\n",
              "          element.appendChild(docLink);\n",
              "        }\n",
              "      </script>\n",
              "    </div>\n",
              "  </div>\n",
              "  "
            ]
          },
          "metadata": {},
          "execution_count": 326
        }
      ]
    },
    {
      "cell_type": "markdown",
      "source": [
        "**Q.1 Perform Exploratory Data Analysis (EDA) tasks **"
      ],
      "metadata": {
        "id": "glUcx3_Nwwqc"
      }
    },
    {
      "cell_type": "markdown",
      "source": [
        "a) Visualize the 10 random rows of the data set"
      ],
      "metadata": {
        "id": "xc0Pe_4Qw9mu"
      }
    },
    {
      "cell_type": "code",
      "source": [
        "data2= data.sample(n=10 , replace = True)\n",
        "data2"
      ],
      "metadata": {
        "colab": {
          "base_uri": "https://localhost:8080/",
          "height": 363
        },
        "id": "0uLAn6l3w-dK",
        "outputId": "1cb232a2-99ad-49b3-db35-f7e9747d05ed"
      },
      "execution_count": 327,
      "outputs": [
        {
          "output_type": "execute_result",
          "data": {
            "text/plain": [
              "     GRE Score  TOEFL Score  University Rating  SOP  LOR   CGPA  Research  \\\n",
              "7          308          101                  2  3.0   4.0  7.90         0   \n",
              "473        316          102                  2  4.0   3.5  8.15         0   \n",
              "455        305          102                  2  1.5   2.5  7.64         0   \n",
              "172        322          110                  4  4.0   5.0  9.13         1   \n",
              "483        304          103                  5  5.0   3.0  7.92         0   \n",
              "458        312          100                  1  3.0   3.0  8.53         1   \n",
              "301        319          108                  2  2.5   3.0  8.76         0   \n",
              "49         327          111                  4  3.0   4.0  8.40         1   \n",
              "8          302          102                  1  2.0   1.5  8.00         0   \n",
              "61         307          101                  3  4.0   3.0  8.20         0   \n",
              "\n",
              "     Chance of Admit   \n",
              "7                0.68  \n",
              "473              0.67  \n",
              "455              0.59  \n",
              "172              0.86  \n",
              "483              0.71  \n",
              "458              0.69  \n",
              "301              0.66  \n",
              "49               0.78  \n",
              "8                0.50  \n",
              "61               0.47  "
            ],
            "text/html": [
              "\n",
              "  <div id=\"df-55f0b7c6-018f-4e08-af6f-aabecf7ce823\">\n",
              "    <div class=\"colab-df-container\">\n",
              "      <div>\n",
              "<style scoped>\n",
              "    .dataframe tbody tr th:only-of-type {\n",
              "        vertical-align: middle;\n",
              "    }\n",
              "\n",
              "    .dataframe tbody tr th {\n",
              "        vertical-align: top;\n",
              "    }\n",
              "\n",
              "    .dataframe thead th {\n",
              "        text-align: right;\n",
              "    }\n",
              "</style>\n",
              "<table border=\"1\" class=\"dataframe\">\n",
              "  <thead>\n",
              "    <tr style=\"text-align: right;\">\n",
              "      <th></th>\n",
              "      <th>GRE Score</th>\n",
              "      <th>TOEFL Score</th>\n",
              "      <th>University Rating</th>\n",
              "      <th>SOP</th>\n",
              "      <th>LOR</th>\n",
              "      <th>CGPA</th>\n",
              "      <th>Research</th>\n",
              "      <th>Chance of Admit</th>\n",
              "    </tr>\n",
              "  </thead>\n",
              "  <tbody>\n",
              "    <tr>\n",
              "      <th>7</th>\n",
              "      <td>308</td>\n",
              "      <td>101</td>\n",
              "      <td>2</td>\n",
              "      <td>3.0</td>\n",
              "      <td>4.0</td>\n",
              "      <td>7.90</td>\n",
              "      <td>0</td>\n",
              "      <td>0.68</td>\n",
              "    </tr>\n",
              "    <tr>\n",
              "      <th>473</th>\n",
              "      <td>316</td>\n",
              "      <td>102</td>\n",
              "      <td>2</td>\n",
              "      <td>4.0</td>\n",
              "      <td>3.5</td>\n",
              "      <td>8.15</td>\n",
              "      <td>0</td>\n",
              "      <td>0.67</td>\n",
              "    </tr>\n",
              "    <tr>\n",
              "      <th>455</th>\n",
              "      <td>305</td>\n",
              "      <td>102</td>\n",
              "      <td>2</td>\n",
              "      <td>1.5</td>\n",
              "      <td>2.5</td>\n",
              "      <td>7.64</td>\n",
              "      <td>0</td>\n",
              "      <td>0.59</td>\n",
              "    </tr>\n",
              "    <tr>\n",
              "      <th>172</th>\n",
              "      <td>322</td>\n",
              "      <td>110</td>\n",
              "      <td>4</td>\n",
              "      <td>4.0</td>\n",
              "      <td>5.0</td>\n",
              "      <td>9.13</td>\n",
              "      <td>1</td>\n",
              "      <td>0.86</td>\n",
              "    </tr>\n",
              "    <tr>\n",
              "      <th>483</th>\n",
              "      <td>304</td>\n",
              "      <td>103</td>\n",
              "      <td>5</td>\n",
              "      <td>5.0</td>\n",
              "      <td>3.0</td>\n",
              "      <td>7.92</td>\n",
              "      <td>0</td>\n",
              "      <td>0.71</td>\n",
              "    </tr>\n",
              "    <tr>\n",
              "      <th>458</th>\n",
              "      <td>312</td>\n",
              "      <td>100</td>\n",
              "      <td>1</td>\n",
              "      <td>3.0</td>\n",
              "      <td>3.0</td>\n",
              "      <td>8.53</td>\n",
              "      <td>1</td>\n",
              "      <td>0.69</td>\n",
              "    </tr>\n",
              "    <tr>\n",
              "      <th>301</th>\n",
              "      <td>319</td>\n",
              "      <td>108</td>\n",
              "      <td>2</td>\n",
              "      <td>2.5</td>\n",
              "      <td>3.0</td>\n",
              "      <td>8.76</td>\n",
              "      <td>0</td>\n",
              "      <td>0.66</td>\n",
              "    </tr>\n",
              "    <tr>\n",
              "      <th>49</th>\n",
              "      <td>327</td>\n",
              "      <td>111</td>\n",
              "      <td>4</td>\n",
              "      <td>3.0</td>\n",
              "      <td>4.0</td>\n",
              "      <td>8.40</td>\n",
              "      <td>1</td>\n",
              "      <td>0.78</td>\n",
              "    </tr>\n",
              "    <tr>\n",
              "      <th>8</th>\n",
              "      <td>302</td>\n",
              "      <td>102</td>\n",
              "      <td>1</td>\n",
              "      <td>2.0</td>\n",
              "      <td>1.5</td>\n",
              "      <td>8.00</td>\n",
              "      <td>0</td>\n",
              "      <td>0.50</td>\n",
              "    </tr>\n",
              "    <tr>\n",
              "      <th>61</th>\n",
              "      <td>307</td>\n",
              "      <td>101</td>\n",
              "      <td>3</td>\n",
              "      <td>4.0</td>\n",
              "      <td>3.0</td>\n",
              "      <td>8.20</td>\n",
              "      <td>0</td>\n",
              "      <td>0.47</td>\n",
              "    </tr>\n",
              "  </tbody>\n",
              "</table>\n",
              "</div>\n",
              "      <button class=\"colab-df-convert\" onclick=\"convertToInteractive('df-55f0b7c6-018f-4e08-af6f-aabecf7ce823')\"\n",
              "              title=\"Convert this dataframe to an interactive table.\"\n",
              "              style=\"display:none;\">\n",
              "        \n",
              "  <svg xmlns=\"http://www.w3.org/2000/svg\" height=\"24px\"viewBox=\"0 0 24 24\"\n",
              "       width=\"24px\">\n",
              "    <path d=\"M0 0h24v24H0V0z\" fill=\"none\"/>\n",
              "    <path d=\"M18.56 5.44l.94 2.06.94-2.06 2.06-.94-2.06-.94-.94-2.06-.94 2.06-2.06.94zm-11 1L8.5 8.5l.94-2.06 2.06-.94-2.06-.94L8.5 2.5l-.94 2.06-2.06.94zm10 10l.94 2.06.94-2.06 2.06-.94-2.06-.94-.94-2.06-.94 2.06-2.06.94z\"/><path d=\"M17.41 7.96l-1.37-1.37c-.4-.4-.92-.59-1.43-.59-.52 0-1.04.2-1.43.59L10.3 9.45l-7.72 7.72c-.78.78-.78 2.05 0 2.83L4 21.41c.39.39.9.59 1.41.59.51 0 1.02-.2 1.41-.59l7.78-7.78 2.81-2.81c.8-.78.8-2.07 0-2.86zM5.41 20L4 18.59l7.72-7.72 1.47 1.35L5.41 20z\"/>\n",
              "  </svg>\n",
              "      </button>\n",
              "      \n",
              "  <style>\n",
              "    .colab-df-container {\n",
              "      display:flex;\n",
              "      flex-wrap:wrap;\n",
              "      gap: 12px;\n",
              "    }\n",
              "\n",
              "    .colab-df-convert {\n",
              "      background-color: #E8F0FE;\n",
              "      border: none;\n",
              "      border-radius: 50%;\n",
              "      cursor: pointer;\n",
              "      display: none;\n",
              "      fill: #1967D2;\n",
              "      height: 32px;\n",
              "      padding: 0 0 0 0;\n",
              "      width: 32px;\n",
              "    }\n",
              "\n",
              "    .colab-df-convert:hover {\n",
              "      background-color: #E2EBFA;\n",
              "      box-shadow: 0px 1px 2px rgba(60, 64, 67, 0.3), 0px 1px 3px 1px rgba(60, 64, 67, 0.15);\n",
              "      fill: #174EA6;\n",
              "    }\n",
              "\n",
              "    [theme=dark] .colab-df-convert {\n",
              "      background-color: #3B4455;\n",
              "      fill: #D2E3FC;\n",
              "    }\n",
              "\n",
              "    [theme=dark] .colab-df-convert:hover {\n",
              "      background-color: #434B5C;\n",
              "      box-shadow: 0px 1px 3px 1px rgba(0, 0, 0, 0.15);\n",
              "      filter: drop-shadow(0px 1px 2px rgba(0, 0, 0, 0.3));\n",
              "      fill: #FFFFFF;\n",
              "    }\n",
              "  </style>\n",
              "\n",
              "      <script>\n",
              "        const buttonEl =\n",
              "          document.querySelector('#df-55f0b7c6-018f-4e08-af6f-aabecf7ce823 button.colab-df-convert');\n",
              "        buttonEl.style.display =\n",
              "          google.colab.kernel.accessAllowed ? 'block' : 'none';\n",
              "\n",
              "        async function convertToInteractive(key) {\n",
              "          const element = document.querySelector('#df-55f0b7c6-018f-4e08-af6f-aabecf7ce823');\n",
              "          const dataTable =\n",
              "            await google.colab.kernel.invokeFunction('convertToInteractive',\n",
              "                                                     [key], {});\n",
              "          if (!dataTable) return;\n",
              "\n",
              "          const docLinkHtml = 'Like what you see? Visit the ' +\n",
              "            '<a target=\"_blank\" href=https://colab.research.google.com/notebooks/data_table.ipynb>data table notebook</a>'\n",
              "            + ' to learn more about interactive tables.';\n",
              "          element.innerHTML = '';\n",
              "          dataTable['output_type'] = 'display_data';\n",
              "          await google.colab.output.renderOutput(dataTable, element);\n",
              "          const docLink = document.createElement('div');\n",
              "          docLink.innerHTML = docLinkHtml;\n",
              "          element.appendChild(docLink);\n",
              "        }\n",
              "      </script>\n",
              "    </div>\n",
              "  </div>\n",
              "  "
            ]
          },
          "metadata": {},
          "execution_count": 327
        }
      ]
    },
    {
      "cell_type": "markdown",
      "source": [
        "b) Generate the description for numeric variables"
      ],
      "metadata": {
        "id": "f2xgbdOgxHGw"
      }
    },
    {
      "cell_type": "code",
      "source": [
        " (data.sum(1))"
      ],
      "metadata": {
        "colab": {
          "base_uri": "https://localhost:8080/"
        },
        "id": "FBYYjf8Cy4Bp",
        "outputId": "6c9b0c22-911c-4f5c-85ab-708c163fa354"
      },
      "execution_count": 328,
      "outputs": [
        {
          "output_type": "execute_result",
          "data": {
            "text/plain": [
              "0      479.57\n",
              "1      454.13\n",
              "2      439.22\n",
              "3      451.47\n",
              "4      432.86\n",
              "        ...  \n",
              "495    464.39\n",
              "496    480.83\n",
              "497    475.99\n",
              "498    437.16\n",
              "499    462.88\n",
              "Length: 500, dtype: float64"
            ]
          },
          "metadata": {},
          "execution_count": 328
        }
      ]
    },
    {
      "cell_type": "markdown",
      "source": [
        "c) Check the shape of the data set"
      ],
      "metadata": {
        "id": "AYfv1aFJzgGk"
      }
    },
    {
      "cell_type": "code",
      "source": [
        "data.shape"
      ],
      "metadata": {
        "colab": {
          "base_uri": "https://localhost:8080/"
        },
        "id": "9XzTHupMxIOn",
        "outputId": "71b9772d-0352-460f-e8c0-1fa66e64e1df"
      },
      "execution_count": 329,
      "outputs": [
        {
          "output_type": "execute_result",
          "data": {
            "text/plain": [
              "(500, 8)"
            ]
          },
          "metadata": {},
          "execution_count": 329
        }
      ]
    },
    {
      "cell_type": "markdown",
      "source": [
        "d) Generate the correlation matrix"
      ],
      "metadata": {
        "id": "z0anvEKo0NuC"
      }
    },
    {
      "cell_type": "code",
      "source": [
        "data.corr()"
      ],
      "metadata": {
        "colab": {
          "base_uri": "https://localhost:8080/",
          "height": 300
        },
        "id": "Lis-w3rT0WhA",
        "outputId": "1fd09110-f203-49dd-fce6-d9fc5a984850"
      },
      "execution_count": 330,
      "outputs": [
        {
          "output_type": "execute_result",
          "data": {
            "text/plain": [
              "                   GRE Score  TOEFL Score  University Rating       SOP  \\\n",
              "GRE Score           1.000000     0.827200           0.635376  0.613498   \n",
              "TOEFL Score         0.827200     1.000000           0.649799  0.644410   \n",
              "University Rating   0.635376     0.649799           1.000000  0.728024   \n",
              "SOP                 0.613498     0.644410           0.728024  1.000000   \n",
              "LOR                 0.524679     0.541563           0.608651  0.663707   \n",
              "CGPA                0.825878     0.810574           0.705254  0.712154   \n",
              "Research            0.563398     0.467012           0.427047  0.408116   \n",
              "Chance of Admit     0.810351     0.792228           0.690132  0.684137   \n",
              "\n",
              "                       LOR       CGPA  Research  Chance of Admit   \n",
              "GRE Score          0.524679  0.825878  0.563398          0.810351  \n",
              "TOEFL Score        0.541563  0.810574  0.467012          0.792228  \n",
              "University Rating  0.608651  0.705254  0.427047          0.690132  \n",
              "SOP                0.663707  0.712154  0.408116          0.684137  \n",
              "LOR                1.000000  0.637469  0.372526          0.645365  \n",
              "CGPA               0.637469  1.000000  0.501311          0.882413  \n",
              "Research           0.372526  0.501311  1.000000          0.545871  \n",
              "Chance of Admit    0.645365  0.882413  0.545871          1.000000  "
            ],
            "text/html": [
              "\n",
              "  <div id=\"df-ea78a9e7-64b2-4d45-a3b1-b9a5e1b2a932\">\n",
              "    <div class=\"colab-df-container\">\n",
              "      <div>\n",
              "<style scoped>\n",
              "    .dataframe tbody tr th:only-of-type {\n",
              "        vertical-align: middle;\n",
              "    }\n",
              "\n",
              "    .dataframe tbody tr th {\n",
              "        vertical-align: top;\n",
              "    }\n",
              "\n",
              "    .dataframe thead th {\n",
              "        text-align: right;\n",
              "    }\n",
              "</style>\n",
              "<table border=\"1\" class=\"dataframe\">\n",
              "  <thead>\n",
              "    <tr style=\"text-align: right;\">\n",
              "      <th></th>\n",
              "      <th>GRE Score</th>\n",
              "      <th>TOEFL Score</th>\n",
              "      <th>University Rating</th>\n",
              "      <th>SOP</th>\n",
              "      <th>LOR</th>\n",
              "      <th>CGPA</th>\n",
              "      <th>Research</th>\n",
              "      <th>Chance of Admit</th>\n",
              "    </tr>\n",
              "  </thead>\n",
              "  <tbody>\n",
              "    <tr>\n",
              "      <th>GRE Score</th>\n",
              "      <td>1.000000</td>\n",
              "      <td>0.827200</td>\n",
              "      <td>0.635376</td>\n",
              "      <td>0.613498</td>\n",
              "      <td>0.524679</td>\n",
              "      <td>0.825878</td>\n",
              "      <td>0.563398</td>\n",
              "      <td>0.810351</td>\n",
              "    </tr>\n",
              "    <tr>\n",
              "      <th>TOEFL Score</th>\n",
              "      <td>0.827200</td>\n",
              "      <td>1.000000</td>\n",
              "      <td>0.649799</td>\n",
              "      <td>0.644410</td>\n",
              "      <td>0.541563</td>\n",
              "      <td>0.810574</td>\n",
              "      <td>0.467012</td>\n",
              "      <td>0.792228</td>\n",
              "    </tr>\n",
              "    <tr>\n",
              "      <th>University Rating</th>\n",
              "      <td>0.635376</td>\n",
              "      <td>0.649799</td>\n",
              "      <td>1.000000</td>\n",
              "      <td>0.728024</td>\n",
              "      <td>0.608651</td>\n",
              "      <td>0.705254</td>\n",
              "      <td>0.427047</td>\n",
              "      <td>0.690132</td>\n",
              "    </tr>\n",
              "    <tr>\n",
              "      <th>SOP</th>\n",
              "      <td>0.613498</td>\n",
              "      <td>0.644410</td>\n",
              "      <td>0.728024</td>\n",
              "      <td>1.000000</td>\n",
              "      <td>0.663707</td>\n",
              "      <td>0.712154</td>\n",
              "      <td>0.408116</td>\n",
              "      <td>0.684137</td>\n",
              "    </tr>\n",
              "    <tr>\n",
              "      <th>LOR</th>\n",
              "      <td>0.524679</td>\n",
              "      <td>0.541563</td>\n",
              "      <td>0.608651</td>\n",
              "      <td>0.663707</td>\n",
              "      <td>1.000000</td>\n",
              "      <td>0.637469</td>\n",
              "      <td>0.372526</td>\n",
              "      <td>0.645365</td>\n",
              "    </tr>\n",
              "    <tr>\n",
              "      <th>CGPA</th>\n",
              "      <td>0.825878</td>\n",
              "      <td>0.810574</td>\n",
              "      <td>0.705254</td>\n",
              "      <td>0.712154</td>\n",
              "      <td>0.637469</td>\n",
              "      <td>1.000000</td>\n",
              "      <td>0.501311</td>\n",
              "      <td>0.882413</td>\n",
              "    </tr>\n",
              "    <tr>\n",
              "      <th>Research</th>\n",
              "      <td>0.563398</td>\n",
              "      <td>0.467012</td>\n",
              "      <td>0.427047</td>\n",
              "      <td>0.408116</td>\n",
              "      <td>0.372526</td>\n",
              "      <td>0.501311</td>\n",
              "      <td>1.000000</td>\n",
              "      <td>0.545871</td>\n",
              "    </tr>\n",
              "    <tr>\n",
              "      <th>Chance of Admit</th>\n",
              "      <td>0.810351</td>\n",
              "      <td>0.792228</td>\n",
              "      <td>0.690132</td>\n",
              "      <td>0.684137</td>\n",
              "      <td>0.645365</td>\n",
              "      <td>0.882413</td>\n",
              "      <td>0.545871</td>\n",
              "      <td>1.000000</td>\n",
              "    </tr>\n",
              "  </tbody>\n",
              "</table>\n",
              "</div>\n",
              "      <button class=\"colab-df-convert\" onclick=\"convertToInteractive('df-ea78a9e7-64b2-4d45-a3b1-b9a5e1b2a932')\"\n",
              "              title=\"Convert this dataframe to an interactive table.\"\n",
              "              style=\"display:none;\">\n",
              "        \n",
              "  <svg xmlns=\"http://www.w3.org/2000/svg\" height=\"24px\"viewBox=\"0 0 24 24\"\n",
              "       width=\"24px\">\n",
              "    <path d=\"M0 0h24v24H0V0z\" fill=\"none\"/>\n",
              "    <path d=\"M18.56 5.44l.94 2.06.94-2.06 2.06-.94-2.06-.94-.94-2.06-.94 2.06-2.06.94zm-11 1L8.5 8.5l.94-2.06 2.06-.94-2.06-.94L8.5 2.5l-.94 2.06-2.06.94zm10 10l.94 2.06.94-2.06 2.06-.94-2.06-.94-.94-2.06-.94 2.06-2.06.94z\"/><path d=\"M17.41 7.96l-1.37-1.37c-.4-.4-.92-.59-1.43-.59-.52 0-1.04.2-1.43.59L10.3 9.45l-7.72 7.72c-.78.78-.78 2.05 0 2.83L4 21.41c.39.39.9.59 1.41.59.51 0 1.02-.2 1.41-.59l7.78-7.78 2.81-2.81c.8-.78.8-2.07 0-2.86zM5.41 20L4 18.59l7.72-7.72 1.47 1.35L5.41 20z\"/>\n",
              "  </svg>\n",
              "      </button>\n",
              "      \n",
              "  <style>\n",
              "    .colab-df-container {\n",
              "      display:flex;\n",
              "      flex-wrap:wrap;\n",
              "      gap: 12px;\n",
              "    }\n",
              "\n",
              "    .colab-df-convert {\n",
              "      background-color: #E8F0FE;\n",
              "      border: none;\n",
              "      border-radius: 50%;\n",
              "      cursor: pointer;\n",
              "      display: none;\n",
              "      fill: #1967D2;\n",
              "      height: 32px;\n",
              "      padding: 0 0 0 0;\n",
              "      width: 32px;\n",
              "    }\n",
              "\n",
              "    .colab-df-convert:hover {\n",
              "      background-color: #E2EBFA;\n",
              "      box-shadow: 0px 1px 2px rgba(60, 64, 67, 0.3), 0px 1px 3px 1px rgba(60, 64, 67, 0.15);\n",
              "      fill: #174EA6;\n",
              "    }\n",
              "\n",
              "    [theme=dark] .colab-df-convert {\n",
              "      background-color: #3B4455;\n",
              "      fill: #D2E3FC;\n",
              "    }\n",
              "\n",
              "    [theme=dark] .colab-df-convert:hover {\n",
              "      background-color: #434B5C;\n",
              "      box-shadow: 0px 1px 3px 1px rgba(0, 0, 0, 0.15);\n",
              "      filter: drop-shadow(0px 1px 2px rgba(0, 0, 0, 0.3));\n",
              "      fill: #FFFFFF;\n",
              "    }\n",
              "  </style>\n",
              "\n",
              "      <script>\n",
              "        const buttonEl =\n",
              "          document.querySelector('#df-ea78a9e7-64b2-4d45-a3b1-b9a5e1b2a932 button.colab-df-convert');\n",
              "        buttonEl.style.display =\n",
              "          google.colab.kernel.accessAllowed ? 'block' : 'none';\n",
              "\n",
              "        async function convertToInteractive(key) {\n",
              "          const element = document.querySelector('#df-ea78a9e7-64b2-4d45-a3b1-b9a5e1b2a932');\n",
              "          const dataTable =\n",
              "            await google.colab.kernel.invokeFunction('convertToInteractive',\n",
              "                                                     [key], {});\n",
              "          if (!dataTable) return;\n",
              "\n",
              "          const docLinkHtml = 'Like what you see? Visit the ' +\n",
              "            '<a target=\"_blank\" href=https://colab.research.google.com/notebooks/data_table.ipynb>data table notebook</a>'\n",
              "            + ' to learn more about interactive tables.';\n",
              "          element.innerHTML = '';\n",
              "          dataTable['output_type'] = 'display_data';\n",
              "          await google.colab.output.renderOutput(dataTable, element);\n",
              "          const docLink = document.createElement('div');\n",
              "          docLink.innerHTML = docLinkHtml;\n",
              "          element.appendChild(docLink);\n",
              "        }\n",
              "      </script>\n",
              "    </div>\n",
              "  </div>\n",
              "  "
            ]
          },
          "metadata": {},
          "execution_count": 330
        }
      ]
    },
    {
      "cell_type": "markdown",
      "source": [
        "e) Generate a correlogram"
      ],
      "metadata": {
        "id": "Z3LXdfDs0a9H"
      }
    },
    {
      "cell_type": "code",
      "source": [
        "import numpy as np\n",
        "c = np.corrcoef(data)\n",
        "print(c)"
      ],
      "metadata": {
        "colab": {
          "base_uri": "https://localhost:8080/"
        },
        "id": "b-SaP5an0ghm",
        "outputId": "761a15a5-16d0-4d2e-c587-929fbaa91158"
      },
      "execution_count": 331,
      "outputs": [
        {
          "output_type": "stream",
          "name": "stdout",
          "text": [
            "[[1.         0.99980902 0.99980461 ... 0.99991571 0.99979794 0.99998615]\n",
            " [0.99980902 1.         0.99999425 ... 0.9994833  0.99999153 0.99987695]\n",
            " [0.99980461 0.99999425 1.         ... 0.99947324 0.9999755  0.99986453]\n",
            " ...\n",
            " [0.99991571 0.9994833  0.99947324 ... 1.         0.99947763 0.99985407]\n",
            " [0.99979794 0.99999153 0.9999755  ... 0.99947763 1.         0.99987838]\n",
            " [0.99998615 0.99987695 0.99986453 ... 0.99985407 0.99987838 1.        ]]\n"
          ]
        }
      ]
    },
    {
      "cell_type": "markdown",
      "source": [
        "\n",
        "**Q.2 Find out the minimum and maximum values for GRE \n",
        "score**"
      ],
      "metadata": {
        "id": "Amj4zo3O1RUB"
      }
    },
    {
      "cell_type": "code",
      "source": [
        "data['GRE Score'].values"
      ],
      "metadata": {
        "colab": {
          "base_uri": "https://localhost:8080/"
        },
        "id": "_LieEsvb1cO_",
        "outputId": "16c28695-ba8a-4c8f-a324-bc4e67b1d4e9"
      },
      "execution_count": 332,
      "outputs": [
        {
          "output_type": "execute_result",
          "data": {
            "text/plain": [
              "array([337, 324, 316, 322, 314, 330, 321, 308, 302, 323, 325, 327, 328,\n",
              "       307, 311, 314, 317, 319, 318, 303, 312, 325, 328, 334, 336, 340,\n",
              "       322, 298, 295, 310, 300, 327, 338, 340, 331, 320, 299, 300, 304,\n",
              "       307, 308, 316, 313, 332, 326, 322, 329, 339, 321, 327, 313, 312,\n",
              "       334, 324, 322, 320, 316, 298, 300, 311, 309, 307, 304, 315, 325,\n",
              "       325, 327, 316, 318, 328, 332, 336, 321, 314, 314, 329, 327, 301,\n",
              "       296, 294, 312, 340, 320, 322, 340, 319, 315, 317, 314, 316, 318,\n",
              "       299, 298, 301, 303, 304, 306, 331, 332, 323, 322, 312, 314, 317,\n",
              "       326, 316, 329, 338, 331, 304, 305, 321, 301, 320, 311, 310, 299,\n",
              "       290, 296, 327, 335, 334, 310, 308, 301, 300, 323, 319, 326, 333,\n",
              "       339, 303, 309, 323, 333, 314, 312, 316, 326, 318, 329, 332, 331,\n",
              "       340, 325, 320, 315, 326, 339, 311, 334, 332, 321, 324, 326, 312,\n",
              "       315, 309, 306, 297, 315, 298, 318, 317, 329, 322, 302, 313, 293,\n",
              "       311, 312, 334, 322, 323, 321, 320, 329, 319, 309, 307, 300, 305,\n",
              "       299, 314, 316, 327, 317, 335, 331, 324, 324, 323, 322, 336, 316,\n",
              "       307, 306, 310, 311, 313, 317, 315, 340, 334, 298, 295, 315, 310,\n",
              "       305, 301, 325, 328, 338, 333, 331, 330, 322, 321, 324, 312, 313,\n",
              "       316, 324, 308, 305, 296, 306, 312, 318, 324, 313, 319, 312, 304,\n",
              "       330, 326, 325, 329, 310, 299, 296, 317, 324, 325, 314, 328, 316,\n",
              "       311, 324, 321, 320, 316, 318, 335, 321, 307, 309, 324, 326, 331,\n",
              "       327, 312, 308, 324, 325, 313, 312, 314, 327, 308, 306, 299, 294,\n",
              "       312, 315, 322, 329, 320, 308, 304, 311, 317, 312, 321, 340, 331,\n",
              "       336, 324, 314, 313, 307, 300, 302, 312, 316, 317, 310, 320, 330,\n",
              "       305, 309, 319, 322, 323, 313, 321, 323, 325, 312, 308, 320, 328,\n",
              "       311, 301, 305, 308, 298, 300, 324, 327, 317, 323, 314, 305, 315,\n",
              "       326, 299, 295, 324, 297, 327, 311, 308, 319, 312, 325, 319, 332,\n",
              "       323, 324, 312, 326, 308, 305, 295, 316, 304, 299, 302, 313, 318,\n",
              "       325, 303, 300, 297, 317, 327, 301, 314, 321, 322, 334, 338, 306,\n",
              "       313, 330, 320, 311, 298, 301, 310, 324, 336, 321, 315, 304, 297,\n",
              "       290, 303, 311, 322, 319, 324, 300, 340, 335, 302, 307, 296, 320,\n",
              "       314, 318, 326, 317, 329, 324, 325, 330, 312, 333, 304, 315, 324,\n",
              "       330, 311, 302, 322, 298, 297, 300, 301, 313, 314, 317, 321, 327,\n",
              "       315, 316, 309, 308, 299, 321, 322, 334, 325, 323, 312, 310, 316,\n",
              "       340, 311, 320, 324, 316, 306, 309, 310, 317, 318, 312, 305, 332,\n",
              "       331, 321, 324, 328, 327, 320, 312, 315, 320, 324, 328, 319, 310,\n",
              "       305, 299, 295, 312, 329, 319, 301, 307, 304, 298, 305, 314, 318,\n",
              "       323, 326, 320, 311, 327, 316, 308, 300, 304, 309, 318, 325, 321,\n",
              "       323, 328, 304, 317, 311, 319, 327, 322, 302, 307, 297, 298, 300,\n",
              "       301, 332, 337, 330, 312, 327])"
            ]
          },
          "metadata": {},
          "execution_count": 332
        }
      ]
    },
    {
      "cell_type": "code",
      "source": [
        " max = data['GRE Score'].max()\n",
        " print(\"MAXIMUM OF GRE SCORE:\",max)"
      ],
      "metadata": {
        "colab": {
          "base_uri": "https://localhost:8080/"
        },
        "id": "gqGdXYtw11l_",
        "outputId": "efeafb40-d10b-44e6-ce5f-d30a391d9ce8"
      },
      "execution_count": 333,
      "outputs": [
        {
          "output_type": "stream",
          "name": "stdout",
          "text": [
            "MAXIMUM OF GRE SCORE: 340\n"
          ]
        }
      ]
    },
    {
      "cell_type": "code",
      "source": [
        " min = data['GRE Score'].min()\n",
        " print(\"Minimum OF GRE SCORE:\",min)"
      ],
      "metadata": {
        "colab": {
          "base_uri": "https://localhost:8080/"
        },
        "id": "HRmCT0qV2ObD",
        "outputId": "f22ae397-dc76-45cd-ea45-da95ae490dc1"
      },
      "execution_count": 334,
      "outputs": [
        {
          "output_type": "stream",
          "name": "stdout",
          "text": [
            "Minimum OF GRE SCORE: 290\n"
          ]
        }
      ]
    },
    {
      "cell_type": "markdown",
      "source": [
        "*Q.3 Find out the percentage of universities for each \n",
        "university rating *"
      ],
      "metadata": {
        "id": "BQFuED6B2gw4"
      }
    },
    {
      "cell_type": "code",
      "source": [
        "z = data['University Rating'].values\n",
        "z\n",
        "e=5"
      ],
      "metadata": {
        "id": "T8RLJuVw2kDh"
      },
      "execution_count": 335,
      "outputs": []
    },
    {
      "cell_type": "code",
      "source": [
        "import seaborn as sns\n",
        "sns.histplot(data['University Rating'],color = 'red')"
      ],
      "metadata": {
        "colab": {
          "base_uri": "https://localhost:8080/",
          "height": 296
        },
        "id": "lZALvskcTdP1",
        "outputId": "4c3e087e-2288-4b9a-dca5-5a85418fa800"
      },
      "execution_count": 427,
      "outputs": [
        {
          "output_type": "execute_result",
          "data": {
            "text/plain": [
              "<matplotlib.axes._subplots.AxesSubplot at 0x7fa04a0f72d0>"
            ]
          },
          "metadata": {},
          "execution_count": 427
        },
        {
          "output_type": "display_data",
          "data": {
            "text/plain": [
              "<Figure size 432x288 with 1 Axes>"
            ],
            "image/png": "[encoded data removed]"
          },
          "metadata": {
            "needs_background": "light"
          }
        }
      ]
    },
    {
      "cell_type": "code",
      "source": [
        "for i in range(0,len(z)):\n",
        "  z[i]=(z[i]/e)*100"
      ],
      "metadata": {
        "id": "2Viv1T_h25zQ"
      },
      "execution_count": 336,
      "outputs": []
    },
    {
      "cell_type": "code",
      "source": [
        "z"
      ],
      "metadata": {
        "colab": {
          "base_uri": "https://localhost:8080/"
        },
        "id": "yS_CkQY93Voi",
        "outputId": "c52fad3d-396b-4d52-c669-ad6ac74334b3"
      },
      "execution_count": 337,
      "outputs": [
        {
          "output_type": "execute_result",
          "data": {
            "text/plain": [
              "array([ 80,  80,  60,  60,  40, 100,  60,  40,  20,  60,  60,  80,  80,\n",
              "        60,  60,  60,  60,  60,  60,  60,  60,  80, 100, 100, 100, 100,\n",
              "       100,  40,  20,  40,  40,  60,  80, 100, 100, 100,  40,  20,  20,\n",
              "        40,  60,  40,  40,  80, 100, 100, 100, 100,  60,  80,  60,  40,\n",
              "        80,  80,  60,  60,  60,  40,  20,  40,  40,  60,  40,  40,  60,\n",
              "        80,  60,  40,  60,  80, 100, 100, 100,  80,  60,  40,  60,  40,\n",
              "        40,  20,  60,  80, 100, 100, 100,  80,  60,  40,  60,  80,  40,\n",
              "        60,  40,  40,  60,  80,  40,  60,  80,  60,  60,  40,  40,  40,\n",
              "        60,  60,  80,  80, 100, 100, 100,  80,  60,  40,  60,  80,  60,\n",
              "        80,  40, 100, 100, 100,  80,  60,  80,  60,  60,  60,  60, 100,\n",
              "       100, 100, 100, 100, 100,  80,  60,  40,  40,  20,  40,  40, 100,\n",
              "        80,  40,  40,  60,  60,  80,  40,  80, 100, 100,  60,  60,  60,\n",
              "        60,  40,  40,  20,  20,  20,  60,  60,  80, 100,  60,  60,  40,\n",
              "        40,  40, 100,  80,  80,  80,  80,  80,  60,  60,  60,  60,  40,\n",
              "        40,  60,  40,  80,  60, 100, 100, 100, 100, 100, 100, 100,  60,\n",
              "        40,  40,  40,  60,  60,  60,  40, 100, 100,  60,  40,  40,  60,\n",
              "        40,  60,  80,  80,  80, 100,  80, 100,  80,  80,  80,  60,  60,\n",
              "        60,  80,  40,  40,  40,  40,  40,  60,  80,  60,  60,  40,  40,\n",
              "       100, 100,  80, 100,  60,  20,  20,  40,  60,  60,  40,  80,  60,\n",
              "        40,  60,  60,  60,  40,  40,  80,  80,  80,  60,  60,  80,  80,\n",
              "       100,  60,  40,  60,  40,  60,  40,  60,  80,  80,  40,  40,  20,\n",
              "        20,  20,  60, 100,  40,  40,  40,  60,  60,  60,  60,  80, 100,\n",
              "       100, 100,  80,  60,  40,  40,  40,  20,  40,  40,  60,  60,  60,\n",
              "        60,  40,  40,  40,  60,  40,  60,  60,  80,  60,  80,  60,  80,\n",
              "        80,  60,  40,  40,  40,  20,  60,  80,  60,  60,  40,  40,  60,\n",
              "        60,  60,  40,  80,  40,  60,  40,  60,  60,  80,  80,  60, 100,\n",
              "       100, 100,  60,  60,  60,  40,  40,  20,  40,  20,  20,  60,  60,\n",
              "        80,  40,  60,  40,  40,  60,  40,  40,  40,  60,  80, 100,  40,\n",
              "        60,  80,  60,  20,  20,  20,  40,  60,  80,  60,  40,  40,  40,\n",
              "        20,  20,  20,  60,  60,  80,  60,  80, 100,  40,  40,  40,  60,\n",
              "        40,  60,  80,  40,  80,  60,  60,  80,  60,  80,  40,  40,  60,\n",
              "        80,  60,  60,  80,  60,  60,  20,  20,  40,  80,  60,  80,  80,\n",
              "        60,  60,  40,  40,  60,  60,  80, 100, 100, 100,  60,  60,  40,\n",
              "       100,  60,  40,  80,  80,  60,  40,  20,  20,  20,  40,  40,  20,\n",
              "        80, 100, 100, 100,  80,  60,  40,  60,  80,  80,  80,  60,  40,\n",
              "        40,  40,  20,  20,  80,  80,  60,  80,  60,  40,  80,  80, 100,\n",
              "        80,  80, 100,  60,  80,  40,  80,  60,  60,  80,  60,  80,  60,\n",
              "        80,  80, 100,  60,  40,  60,  80,  60,  60,  40,  80,  80,  40,\n",
              "        60, 100, 100, 100,  80,  80])"
            ]
          },
          "metadata": {},
          "execution_count": 337
        }
      ]
    },
    {
      "cell_type": "markdown",
      "source": [
        "**Q.4 Convert the target variable “Chance of Admit” to categorical having values 0 and 1,such that :\n",
        "\n",
        "Students having the “Chance of Admit” value > 0.80, are assigned value 1, and\n",
        "Students having the “Chance of Admit” value < 0.80, are assigned value 0\n",
        "Where 0: Low chance of Admission and 1: High chance of admission**"
      ],
      "metadata": {
        "id": "raJ7muXo3cA2"
      }
    },
    {
      "cell_type": "code",
      "source": [
        "z=data['Chance of Admit '].values\n",
        "z"
      ],
      "metadata": {
        "colab": {
          "base_uri": "https://localhost:8080/"
        },
        "id": "-BjPrgMD3ejC",
        "outputId": "e955a3f0-c49d-4156-a888-78a4754051f3"
      },
      "execution_count": 338,
      "outputs": [
        {
          "output_type": "execute_result",
          "data": {
            "text/plain": [
              "array([0.92, 0.76, 0.72, 0.8 , 0.65, 0.9 , 0.75, 0.68, 0.5 , 0.45, 0.52,\n",
              "       0.84, 0.78, 0.62, 0.61, 0.54, 0.66, 0.65, 0.63, 0.62, 0.64, 0.7 ,\n",
              "       0.94, 0.95, 0.97, 0.94, 0.76, 0.44, 0.46, 0.54, 0.65, 0.74, 0.91,\n",
              "       0.9 , 0.94, 0.88, 0.64, 0.58, 0.52, 0.48, 0.46, 0.49, 0.53, 0.87,\n",
              "       0.91, 0.88, 0.86, 0.89, 0.82, 0.78, 0.76, 0.56, 0.78, 0.72, 0.7 ,\n",
              "       0.64, 0.64, 0.46, 0.36, 0.42, 0.48, 0.47, 0.54, 0.56, 0.52, 0.55,\n",
              "       0.61, 0.57, 0.68, 0.78, 0.94, 0.96, 0.93, 0.84, 0.74, 0.72, 0.74,\n",
              "       0.64, 0.44, 0.46, 0.5 , 0.96, 0.92, 0.92, 0.94, 0.76, 0.72, 0.66,\n",
              "       0.64, 0.74, 0.64, 0.38, 0.34, 0.44, 0.36, 0.42, 0.48, 0.86, 0.9 ,\n",
              "       0.79, 0.71, 0.64, 0.62, 0.57, 0.74, 0.69, 0.87, 0.91, 0.93, 0.68,\n",
              "       0.61, 0.69, 0.62, 0.72, 0.59, 0.66, 0.56, 0.45, 0.47, 0.71, 0.94,\n",
              "       0.94, 0.57, 0.61, 0.57, 0.64, 0.85, 0.78, 0.84, 0.92, 0.96, 0.77,\n",
              "       0.71, 0.79, 0.89, 0.82, 0.76, 0.71, 0.8 , 0.78, 0.84, 0.9 , 0.92,\n",
              "       0.97, 0.8 , 0.81, 0.75, 0.83, 0.96, 0.79, 0.93, 0.94, 0.86, 0.79,\n",
              "       0.8 , 0.77, 0.7 , 0.65, 0.61, 0.52, 0.57, 0.53, 0.67, 0.68, 0.81,\n",
              "       0.78, 0.65, 0.64, 0.64, 0.65, 0.68, 0.89, 0.86, 0.89, 0.87, 0.85,\n",
              "       0.9 , 0.82, 0.72, 0.73, 0.71, 0.71, 0.68, 0.75, 0.72, 0.89, 0.84,\n",
              "       0.93, 0.93, 0.88, 0.9 , 0.87, 0.86, 0.94, 0.77, 0.78, 0.73, 0.73,\n",
              "       0.7 , 0.72, 0.73, 0.72, 0.97, 0.97, 0.69, 0.57, 0.63, 0.66, 0.64,\n",
              "       0.68, 0.79, 0.82, 0.95, 0.96, 0.94, 0.93, 0.91, 0.85, 0.84, 0.74,\n",
              "       0.76, 0.75, 0.76, 0.71, 0.67, 0.61, 0.63, 0.64, 0.71, 0.82, 0.73,\n",
              "       0.74, 0.69, 0.64, 0.91, 0.88, 0.85, 0.86, 0.7 , 0.59, 0.6 , 0.65,\n",
              "       0.7 , 0.76, 0.63, 0.81, 0.72, 0.71, 0.8 , 0.77, 0.74, 0.7 , 0.71,\n",
              "       0.93, 0.85, 0.79, 0.76, 0.78, 0.77, 0.9 , 0.87, 0.71, 0.7 , 0.7 ,\n",
              "       0.75, 0.71, 0.72, 0.73, 0.83, 0.77, 0.72, 0.54, 0.49, 0.52, 0.58,\n",
              "       0.78, 0.89, 0.7 , 0.66, 0.67, 0.68, 0.8 , 0.81, 0.8 , 0.94, 0.93,\n",
              "       0.92, 0.89, 0.82, 0.79, 0.58, 0.56, 0.56, 0.64, 0.61, 0.68, 0.76,\n",
              "       0.86, 0.9 , 0.71, 0.62, 0.66, 0.65, 0.73, 0.62, 0.74, 0.79, 0.8 ,\n",
              "       0.69, 0.7 , 0.76, 0.84, 0.78, 0.67, 0.66, 0.65, 0.54, 0.58, 0.79,\n",
              "       0.8 , 0.75, 0.73, 0.72, 0.62, 0.67, 0.81, 0.63, 0.69, 0.8 , 0.43,\n",
              "       0.8 , 0.73, 0.75, 0.71, 0.73, 0.83, 0.72, 0.94, 0.81, 0.81, 0.75,\n",
              "       0.79, 0.58, 0.59, 0.47, 0.49, 0.47, 0.42, 0.57, 0.62, 0.74, 0.73,\n",
              "       0.64, 0.63, 0.59, 0.73, 0.79, 0.68, 0.7 , 0.81, 0.85, 0.93, 0.91,\n",
              "       0.69, 0.77, 0.86, 0.74, 0.57, 0.51, 0.67, 0.72, 0.89, 0.95, 0.79,\n",
              "       0.39, 0.38, 0.34, 0.47, 0.56, 0.71, 0.78, 0.73, 0.82, 0.62, 0.96,\n",
              "       0.96, 0.46, 0.53, 0.49, 0.76, 0.64, 0.71, 0.84, 0.77, 0.89, 0.82,\n",
              "       0.84, 0.91, 0.67, 0.95, 0.63, 0.66, 0.78, 0.91, 0.62, 0.52, 0.61,\n",
              "       0.58, 0.57, 0.61, 0.54, 0.56, 0.59, 0.49, 0.72, 0.76, 0.65, 0.52,\n",
              "       0.6 , 0.58, 0.42, 0.77, 0.73, 0.94, 0.91, 0.92, 0.71, 0.71, 0.69,\n",
              "       0.95, 0.74, 0.73, 0.86, 0.71, 0.64, 0.55, 0.58, 0.61, 0.67, 0.66,\n",
              "       0.53, 0.79, 0.92, 0.87, 0.92, 0.91, 0.93, 0.84, 0.8 , 0.79, 0.82,\n",
              "       0.89, 0.93, 0.73, 0.71, 0.59, 0.51, 0.37, 0.69, 0.89, 0.77, 0.68,\n",
              "       0.62, 0.57, 0.45, 0.54, 0.71, 0.78, 0.81, 0.86, 0.87, 0.64, 0.9 ,\n",
              "       0.67, 0.67, 0.59, 0.62, 0.65, 0.71, 0.79, 0.8 , 0.78, 0.83, 0.71,\n",
              "       0.73, 0.7 , 0.68, 0.79, 0.76, 0.65, 0.67, 0.54, 0.53, 0.62, 0.68,\n",
              "       0.87, 0.96, 0.93, 0.73, 0.84])"
            ]
          },
          "metadata": {},
          "execution_count": 338
        }
      ]
    },
    {
      "cell_type": "code",
      "source": [
        "for i in range(0,len(z)):\n",
        "  if(z[i]>0.80):\n",
        "    z[i]=1\n",
        "  elif(z[i]<=0.80):\n",
        "    z[i]=0"
      ],
      "metadata": {
        "id": "RY_0erPS3tHM"
      },
      "execution_count": 339,
      "outputs": []
    },
    {
      "cell_type": "code",
      "source": [
        "data"
      ],
      "metadata": {
        "colab": {
          "base_uri": "https://localhost:8080/",
          "height": 424
        },
        "id": "j4Y1wece36O-",
        "outputId": "26057b1d-8b74-46ce-e260-3a12af2254fd"
      },
      "execution_count": 340,
      "outputs": [
        {
          "output_type": "execute_result",
          "data": {
            "text/plain": [
              "     GRE Score  TOEFL Score  University Rating  SOP  LOR   CGPA  Research  \\\n",
              "0          337          118                 80  4.5   4.5  9.65         1   \n",
              "1          324          107                 80  4.0   4.5  8.87         1   \n",
              "2          316          104                 60  3.0   3.5  8.00         1   \n",
              "3          322          110                 60  3.5   2.5  8.67         1   \n",
              "4          314          103                 40  2.0   3.0  8.21         0   \n",
              "..         ...          ...                ...  ...   ...   ...       ...   \n",
              "495        332          108                100  4.5   4.0  9.02         1   \n",
              "496        337          117                100  5.0   5.0  9.87         1   \n",
              "497        330          120                100  4.5   5.0  9.56         1   \n",
              "498        312          103                 80  4.0   5.0  8.43         0   \n",
              "499        327          113                 80  4.5   4.5  9.04         0   \n",
              "\n",
              "     Chance of Admit   \n",
              "0                 1.0  \n",
              "1                 0.0  \n",
              "2                 0.0  \n",
              "3                 0.0  \n",
              "4                 0.0  \n",
              "..                ...  \n",
              "495               1.0  \n",
              "496               1.0  \n",
              "497               1.0  \n",
              "498               0.0  \n",
              "499               1.0  \n",
              "\n",
              "[500 rows x 8 columns]"
            ],
            "text/html": [
              "\n",
              "  <div id=\"df-296255f7-e70a-4967-be66-a35a1bd1341b\">\n",
              "    <div class=\"colab-df-container\">\n",
              "      <div>\n",
              "<style scoped>\n",
              "    .dataframe tbody tr th:only-of-type {\n",
              "        vertical-align: middle;\n",
              "    }\n",
              "\n",
              "    .dataframe tbody tr th {\n",
              "        vertical-align: top;\n",
              "    }\n",
              "\n",
              "    .dataframe thead th {\n",
              "        text-align: right;\n",
              "    }\n",
              "</style>\n",
              "<table border=\"1\" class=\"dataframe\">\n",
              "  <thead>\n",
              "    <tr style=\"text-align: right;\">\n",
              "      <th></th>\n",
              "      <th>GRE Score</th>\n",
              "      <th>TOEFL Score</th>\n",
              "      <th>University Rating</th>\n",
              "      <th>SOP</th>\n",
              "      <th>LOR</th>\n",
              "      <th>CGPA</th>\n",
              "      <th>Research</th>\n",
              "      <th>Chance of Admit</th>\n",
              "    </tr>\n",
              "  </thead>\n",
              "  <tbody>\n",
              "    <tr>\n",
              "      <th>0</th>\n",
              "      <td>337</td>\n",
              "      <td>118</td>\n",
              "      <td>80</td>\n",
              "      <td>4.5</td>\n",
              "      <td>4.5</td>\n",
              "      <td>9.65</td>\n",
              "      <td>1</td>\n",
              "      <td>1.0</td>\n",
              "    </tr>\n",
              "    <tr>\n",
              "      <th>1</th>\n",
              "      <td>324</td>\n",
              "      <td>107</td>\n",
              "      <td>80</td>\n",
              "      <td>4.0</td>\n",
              "      <td>4.5</td>\n",
              "      <td>8.87</td>\n",
              "      <td>1</td>\n",
              "      <td>0.0</td>\n",
              "    </tr>\n",
              "    <tr>\n",
              "      <th>2</th>\n",
              "      <td>316</td>\n",
              "      <td>104</td>\n",
              "      <td>60</td>\n",
              "      <td>3.0</td>\n",
              "      <td>3.5</td>\n",
              "      <td>8.00</td>\n",
              "      <td>1</td>\n",
              "      <td>0.0</td>\n",
              "    </tr>\n",
              "    <tr>\n",
              "      <th>3</th>\n",
              "      <td>322</td>\n",
              "      <td>110</td>\n",
              "      <td>60</td>\n",
              "      <td>3.5</td>\n",
              "      <td>2.5</td>\n",
              "      <td>8.67</td>\n",
              "      <td>1</td>\n",
              "      <td>0.0</td>\n",
              "    </tr>\n",
              "    <tr>\n",
              "      <th>4</th>\n",
              "      <td>314</td>\n",
              "      <td>103</td>\n",
              "      <td>40</td>\n",
              "      <td>2.0</td>\n",
              "      <td>3.0</td>\n",
              "      <td>8.21</td>\n",
              "      <td>0</td>\n",
              "      <td>0.0</td>\n",
              "    </tr>\n",
              "    <tr>\n",
              "      <th>...</th>\n",
              "      <td>...</td>\n",
              "      <td>...</td>\n",
              "      <td>...</td>\n",
              "      <td>...</td>\n",
              "      <td>...</td>\n",
              "      <td>...</td>\n",
              "      <td>...</td>\n",
              "      <td>...</td>\n",
              "    </tr>\n",
              "    <tr>\n",
              "      <th>495</th>\n",
              "      <td>332</td>\n",
              "      <td>108</td>\n",
              "      <td>100</td>\n",
              "      <td>4.5</td>\n",
              "      <td>4.0</td>\n",
              "      <td>9.02</td>\n",
              "      <td>1</td>\n",
              "      <td>1.0</td>\n",
              "    </tr>\n",
              "    <tr>\n",
              "      <th>496</th>\n",
              "      <td>337</td>\n",
              "      <td>117</td>\n",
              "      <td>100</td>\n",
              "      <td>5.0</td>\n",
              "      <td>5.0</td>\n",
              "      <td>9.87</td>\n",
              "      <td>1</td>\n",
              "      <td>1.0</td>\n",
              "    </tr>\n",
              "    <tr>\n",
              "      <th>497</th>\n",
              "      <td>330</td>\n",
              "      <td>120</td>\n",
              "      <td>100</td>\n",
              "      <td>4.5</td>\n",
              "      <td>5.0</td>\n",
              "      <td>9.56</td>\n",
              "      <td>1</td>\n",
              "      <td>1.0</td>\n",
              "    </tr>\n",
              "    <tr>\n",
              "      <th>498</th>\n",
              "      <td>312</td>\n",
              "      <td>103</td>\n",
              "      <td>80</td>\n",
              "      <td>4.0</td>\n",
              "      <td>5.0</td>\n",
              "      <td>8.43</td>\n",
              "      <td>0</td>\n",
              "      <td>0.0</td>\n",
              "    </tr>\n",
              "    <tr>\n",
              "      <th>499</th>\n",
              "      <td>327</td>\n",
              "      <td>113</td>\n",
              "      <td>80</td>\n",
              "      <td>4.5</td>\n",
              "      <td>4.5</td>\n",
              "      <td>9.04</td>\n",
              "      <td>0</td>\n",
              "      <td>1.0</td>\n",
              "    </tr>\n",
              "  </tbody>\n",
              "</table>\n",
              "<p>500 rows × 8 columns</p>\n",
              "</div>\n",
              "      <button class=\"colab-df-convert\" onclick=\"convertToInteractive('df-296255f7-e70a-4967-be66-a35a1bd1341b')\"\n",
              "              title=\"Convert this dataframe to an interactive table.\"\n",
              "              style=\"display:none;\">\n",
              "        \n",
              "  <svg xmlns=\"http://www.w3.org/2000/svg\" height=\"24px\"viewBox=\"0 0 24 24\"\n",
              "       width=\"24px\">\n",
              "    <path d=\"M0 0h24v24H0V0z\" fill=\"none\"/>\n",
              "    <path d=\"M18.56 5.44l.94 2.06.94-2.06 2.06-.94-2.06-.94-.94-2.06-.94 2.06-2.06.94zm-11 1L8.5 8.5l.94-2.06 2.06-.94-2.06-.94L8.5 2.5l-.94 2.06-2.06.94zm10 10l.94 2.06.94-2.06 2.06-.94-2.06-.94-.94-2.06-.94 2.06-2.06.94z\"/><path d=\"M17.41 7.96l-1.37-1.37c-.4-.4-.92-.59-1.43-.59-.52 0-1.04.2-1.43.59L10.3 9.45l-7.72 7.72c-.78.78-.78 2.05 0 2.83L4 21.41c.39.39.9.59 1.41.59.51 0 1.02-.2 1.41-.59l7.78-7.78 2.81-2.81c.8-.78.8-2.07 0-2.86zM5.41 20L4 18.59l7.72-7.72 1.47 1.35L5.41 20z\"/>\n",
              "  </svg>\n",
              "      </button>\n",
              "      \n",
              "  <style>\n",
              "    .colab-df-container {\n",
              "      display:flex;\n",
              "      flex-wrap:wrap;\n",
              "      gap: 12px;\n",
              "    }\n",
              "\n",
              "    .colab-df-convert {\n",
              "      background-color: #E8F0FE;\n",
              "      border: none;\n",
              "      border-radius: 50%;\n",
              "      cursor: pointer;\n",
              "      display: none;\n",
              "      fill: #1967D2;\n",
              "      height: 32px;\n",
              "      padding: 0 0 0 0;\n",
              "      width: 32px;\n",
              "    }\n",
              "\n",
              "    .colab-df-convert:hover {\n",
              "      background-color: #E2EBFA;\n",
              "      box-shadow: 0px 1px 2px rgba(60, 64, 67, 0.3), 0px 1px 3px 1px rgba(60, 64, 67, 0.15);\n",
              "      fill: #174EA6;\n",
              "    }\n",
              "\n",
              "    [theme=dark] .colab-df-convert {\n",
              "      background-color: #3B4455;\n",
              "      fill: #D2E3FC;\n",
              "    }\n",
              "\n",
              "    [theme=dark] .colab-df-convert:hover {\n",
              "      background-color: #434B5C;\n",
              "      box-shadow: 0px 1px 3px 1px rgba(0, 0, 0, 0.15);\n",
              "      filter: drop-shadow(0px 1px 2px rgba(0, 0, 0, 0.3));\n",
              "      fill: #FFFFFF;\n",
              "    }\n",
              "  </style>\n",
              "\n",
              "      <script>\n",
              "        const buttonEl =\n",
              "          document.querySelector('#df-296255f7-e70a-4967-be66-a35a1bd1341b button.colab-df-convert');\n",
              "        buttonEl.style.display =\n",
              "          google.colab.kernel.accessAllowed ? 'block' : 'none';\n",
              "\n",
              "        async function convertToInteractive(key) {\n",
              "          const element = document.querySelector('#df-296255f7-e70a-4967-be66-a35a1bd1341b');\n",
              "          const dataTable =\n",
              "            await google.colab.kernel.invokeFunction('convertToInteractive',\n",
              "                                                     [key], {});\n",
              "          if (!dataTable) return;\n",
              "\n",
              "          const docLinkHtml = 'Like what you see? Visit the ' +\n",
              "            '<a target=\"_blank\" href=https://colab.research.google.com/notebooks/data_table.ipynb>data table notebook</a>'\n",
              "            + ' to learn more about interactive tables.';\n",
              "          element.innerHTML = '';\n",
              "          dataTable['output_type'] = 'display_data';\n",
              "          await google.colab.output.renderOutput(dataTable, element);\n",
              "          const docLink = document.createElement('div');\n",
              "          docLink.innerHTML = docLinkHtml;\n",
              "          element.appendChild(docLink);\n",
              "        }\n",
              "      </script>\n",
              "    </div>\n",
              "  </div>\n",
              "  "
            ]
          },
          "metadata": {},
          "execution_count": 340
        }
      ]
    },
    {
      "cell_type": "markdown",
      "source": [
        "**Q.5 Build a Decision Tree classifier, to predict whether a student has a low or high chance of admission to a chosen university. Perform Hyperparameter Tuning to improve the accuracy of the model.**"
      ],
      "metadata": {
        "id": "7w1D7qGV9xjT"
      }
    },
    {
      "cell_type": "code",
      "source": [
        "data.info()"
      ],
      "metadata": {
        "colab": {
          "base_uri": "https://localhost:8080/"
        },
        "id": "k9aZjZih9-xk",
        "outputId": "163cb11a-4eeb-46f6-9b75-03d1ae123873"
      },
      "execution_count": 341,
      "outputs": [
        {
          "output_type": "stream",
          "name": "stdout",
          "text": [
            "<class 'pandas.core.frame.DataFrame'>\n",
            "RangeIndex: 500 entries, 0 to 499\n",
            "Data columns (total 8 columns):\n",
            " #   Column             Non-Null Count  Dtype  \n",
            "---  ------             --------------  -----  \n",
            " 0   GRE Score          500 non-null    int64  \n",
            " 1   TOEFL Score        500 non-null    int64  \n",
            " 2   University Rating  500 non-null    int64  \n",
            " 3   SOP                500 non-null    float64\n",
            " 4   LOR                500 non-null    float64\n",
            " 5   CGPA               500 non-null    float64\n",
            " 6   Research           500 non-null    int64  \n",
            " 7   Chance of Admit    500 non-null    float64\n",
            "dtypes: float64(4), int64(4)\n",
            "memory usage: 31.4 KB\n"
          ]
        }
      ]
    },
    {
      "cell_type": "code",
      "source": [
        "data.describe()"
      ],
      "metadata": {
        "colab": {
          "base_uri": "https://localhost:8080/",
          "height": 300
        },
        "id": "QiQFN2lb-Cvb",
        "outputId": "c4458d4f-249f-4225-84b9-4c69d117f851"
      },
      "execution_count": 342,
      "outputs": [
        {
          "output_type": "execute_result",
          "data": {
            "text/plain": [
              "        GRE Score  TOEFL Score  University Rating         SOP       LOR   \\\n",
              "count  500.000000   500.000000         500.000000  500.000000  500.00000   \n",
              "mean   316.472000   107.192000          62.280000    3.374000    3.48400   \n",
              "std     11.295148     6.081868          22.870236    0.991004    0.92545   \n",
              "min    290.000000    92.000000          20.000000    1.000000    1.00000   \n",
              "25%    308.000000   103.000000          40.000000    2.500000    3.00000   \n",
              "50%    317.000000   107.000000          60.000000    3.500000    3.50000   \n",
              "75%    325.000000   112.000000          80.000000    4.000000    4.00000   \n",
              "max    340.000000   120.000000         100.000000    5.000000    5.00000   \n",
              "\n",
              "             CGPA    Research  Chance of Admit   \n",
              "count  500.000000  500.000000        500.000000  \n",
              "mean     8.576440    0.560000          0.284000  \n",
              "std      0.604813    0.496884          0.451388  \n",
              "min      6.800000    0.000000          0.000000  \n",
              "25%      8.127500    0.000000          0.000000  \n",
              "50%      8.560000    1.000000          0.000000  \n",
              "75%      9.040000    1.000000          1.000000  \n",
              "max      9.920000    1.000000          1.000000  "
            ],
            "text/html": [
              "\n",
              "  <div id=\"df-e1a4b656-0930-432e-87db-3c5f4cb0fd4d\">\n",
              "    <div class=\"colab-df-container\">\n",
              "      <div>\n",
              "<style scoped>\n",
              "    .dataframe tbody tr th:only-of-type {\n",
              "        vertical-align: middle;\n",
              "    }\n",
              "\n",
              "    .dataframe tbody tr th {\n",
              "        vertical-align: top;\n",
              "    }\n",
              "\n",
              "    .dataframe thead th {\n",
              "        text-align: right;\n",
              "    }\n",
              "</style>\n",
              "<table border=\"1\" class=\"dataframe\">\n",
              "  <thead>\n",
              "    <tr style=\"text-align: right;\">\n",
              "      <th></th>\n",
              "      <th>GRE Score</th>\n",
              "      <th>TOEFL Score</th>\n",
              "      <th>University Rating</th>\n",
              "      <th>SOP</th>\n",
              "      <th>LOR</th>\n",
              "      <th>CGPA</th>\n",
              "      <th>Research</th>\n",
              "      <th>Chance of Admit</th>\n",
              "    </tr>\n",
              "  </thead>\n",
              "  <tbody>\n",
              "    <tr>\n",
              "      <th>count</th>\n",
              "      <td>500.000000</td>\n",
              "      <td>500.000000</td>\n",
              "      <td>500.000000</td>\n",
              "      <td>500.000000</td>\n",
              "      <td>500.00000</td>\n",
              "      <td>500.000000</td>\n",
              "      <td>500.000000</td>\n",
              "      <td>500.000000</td>\n",
              "    </tr>\n",
              "    <tr>\n",
              "      <th>mean</th>\n",
              "      <td>316.472000</td>\n",
              "      <td>107.192000</td>\n",
              "      <td>62.280000</td>\n",
              "      <td>3.374000</td>\n",
              "      <td>3.48400</td>\n",
              "      <td>8.576440</td>\n",
              "      <td>0.560000</td>\n",
              "      <td>0.284000</td>\n",
              "    </tr>\n",
              "    <tr>\n",
              "      <th>std</th>\n",
              "      <td>11.295148</td>\n",
              "      <td>6.081868</td>\n",
              "      <td>22.870236</td>\n",
              "      <td>0.991004</td>\n",
              "      <td>0.92545</td>\n",
              "      <td>0.604813</td>\n",
              "      <td>0.496884</td>\n",
              "      <td>0.451388</td>\n",
              "    </tr>\n",
              "    <tr>\n",
              "      <th>min</th>\n",
              "      <td>290.000000</td>\n",
              "      <td>92.000000</td>\n",
              "      <td>20.000000</td>\n",
              "      <td>1.000000</td>\n",
              "      <td>1.00000</td>\n",
              "      <td>6.800000</td>\n",
              "      <td>0.000000</td>\n",
              "      <td>0.000000</td>\n",
              "    </tr>\n",
              "    <tr>\n",
              "      <th>25%</th>\n",
              "      <td>308.000000</td>\n",
              "      <td>103.000000</td>\n",
              "      <td>40.000000</td>\n",
              "      <td>2.500000</td>\n",
              "      <td>3.00000</td>\n",
              "      <td>8.127500</td>\n",
              "      <td>0.000000</td>\n",
              "      <td>0.000000</td>\n",
              "    </tr>\n",
              "    <tr>\n",
              "      <th>50%</th>\n",
              "      <td>317.000000</td>\n",
              "      <td>107.000000</td>\n",
              "      <td>60.000000</td>\n",
              "      <td>3.500000</td>\n",
              "      <td>3.50000</td>\n",
              "      <td>8.560000</td>\n",
              "      <td>1.000000</td>\n",
              "      <td>0.000000</td>\n",
              "    </tr>\n",
              "    <tr>\n",
              "      <th>75%</th>\n",
              "      <td>325.000000</td>\n",
              "      <td>112.000000</td>\n",
              "      <td>80.000000</td>\n",
              "      <td>4.000000</td>\n",
              "      <td>4.00000</td>\n",
              "      <td>9.040000</td>\n",
              "      <td>1.000000</td>\n",
              "      <td>1.000000</td>\n",
              "    </tr>\n",
              "    <tr>\n",
              "      <th>max</th>\n",
              "      <td>340.000000</td>\n",
              "      <td>120.000000</td>\n",
              "      <td>100.000000</td>\n",
              "      <td>5.000000</td>\n",
              "      <td>5.00000</td>\n",
              "      <td>9.920000</td>\n",
              "      <td>1.000000</td>\n",
              "      <td>1.000000</td>\n",
              "    </tr>\n",
              "  </tbody>\n",
              "</table>\n",
              "</div>\n",
              "      <button class=\"colab-df-convert\" onclick=\"convertToInteractive('df-e1a4b656-0930-432e-87db-3c5f4cb0fd4d')\"\n",
              "              title=\"Convert this dataframe to an interactive table.\"\n",
              "              style=\"display:none;\">\n",
              "        \n",
              "  <svg xmlns=\"http://www.w3.org/2000/svg\" height=\"24px\"viewBox=\"0 0 24 24\"\n",
              "       width=\"24px\">\n",
              "    <path d=\"M0 0h24v24H0V0z\" fill=\"none\"/>\n",
              "    <path d=\"M18.56 5.44l.94 2.06.94-2.06 2.06-.94-2.06-.94-.94-2.06-.94 2.06-2.06.94zm-11 1L8.5 8.5l.94-2.06 2.06-.94-2.06-.94L8.5 2.5l-.94 2.06-2.06.94zm10 10l.94 2.06.94-2.06 2.06-.94-2.06-.94-.94-2.06-.94 2.06-2.06.94z\"/><path d=\"M17.41 7.96l-1.37-1.37c-.4-.4-.92-.59-1.43-.59-.52 0-1.04.2-1.43.59L10.3 9.45l-7.72 7.72c-.78.78-.78 2.05 0 2.83L4 21.41c.39.39.9.59 1.41.59.51 0 1.02-.2 1.41-.59l7.78-7.78 2.81-2.81c.8-.78.8-2.07 0-2.86zM5.41 20L4 18.59l7.72-7.72 1.47 1.35L5.41 20z\"/>\n",
              "  </svg>\n",
              "      </button>\n",
              "      \n",
              "  <style>\n",
              "    .colab-df-container {\n",
              "      display:flex;\n",
              "      flex-wrap:wrap;\n",
              "      gap: 12px;\n",
              "    }\n",
              "\n",
              "    .colab-df-convert {\n",
              "      background-color: #E8F0FE;\n",
              "      border: none;\n",
              "      border-radius: 50%;\n",
              "      cursor: pointer;\n",
              "      display: none;\n",
              "      fill: #1967D2;\n",
              "      height: 32px;\n",
              "      padding: 0 0 0 0;\n",
              "      width: 32px;\n",
              "    }\n",
              "\n",
              "    .colab-df-convert:hover {\n",
              "      background-color: #E2EBFA;\n",
              "      box-shadow: 0px 1px 2px rgba(60, 64, 67, 0.3), 0px 1px 3px 1px rgba(60, 64, 67, 0.15);\n",
              "      fill: #174EA6;\n",
              "    }\n",
              "\n",
              "    [theme=dark] .colab-df-convert {\n",
              "      background-color: #3B4455;\n",
              "      fill: #D2E3FC;\n",
              "    }\n",
              "\n",
              "    [theme=dark] .colab-df-convert:hover {\n",
              "      background-color: #434B5C;\n",
              "      box-shadow: 0px 1px 3px 1px rgba(0, 0, 0, 0.15);\n",
              "      filter: drop-shadow(0px 1px 2px rgba(0, 0, 0, 0.3));\n",
              "      fill: #FFFFFF;\n",
              "    }\n",
              "  </style>\n",
              "\n",
              "      <script>\n",
              "        const buttonEl =\n",
              "          document.querySelector('#df-e1a4b656-0930-432e-87db-3c5f4cb0fd4d button.colab-df-convert');\n",
              "        buttonEl.style.display =\n",
              "          google.colab.kernel.accessAllowed ? 'block' : 'none';\n",
              "\n",
              "        async function convertToInteractive(key) {\n",
              "          const element = document.querySelector('#df-e1a4b656-0930-432e-87db-3c5f4cb0fd4d');\n",
              "          const dataTable =\n",
              "            await google.colab.kernel.invokeFunction('convertToInteractive',\n",
              "                                                     [key], {});\n",
              "          if (!dataTable) return;\n",
              "\n",
              "          const docLinkHtml = 'Like what you see? Visit the ' +\n",
              "            '<a target=\"_blank\" href=https://colab.research.google.com/notebooks/data_table.ipynb>data table notebook</a>'\n",
              "            + ' to learn more about interactive tables.';\n",
              "          element.innerHTML = '';\n",
              "          dataTable['output_type'] = 'display_data';\n",
              "          await google.colab.output.renderOutput(dataTable, element);\n",
              "          const docLink = document.createElement('div');\n",
              "          docLink.innerHTML = docLinkHtml;\n",
              "          element.appendChild(docLink);\n",
              "        }\n",
              "      </script>\n",
              "    </div>\n",
              "  </div>\n",
              "  "
            ]
          },
          "metadata": {},
          "execution_count": 342
        }
      ]
    },
    {
      "cell_type": "code",
      "source": [
        "x=data.drop(['Chance of Admit '],axis=1).values\n",
        "y=data['Chance of Admit '].values"
      ],
      "metadata": {
        "id": "Bn2soPaH93_E"
      },
      "execution_count": 343,
      "outputs": []
    },
    {
      "cell_type": "code",
      "source": [
        "from sklearn.model_selection import train_test_split"
      ],
      "metadata": {
        "id": "h1Fw_JTx-FrY"
      },
      "execution_count": 344,
      "outputs": []
    },
    {
      "cell_type": "code",
      "source": [
        "from sklearn import model_selection\n",
        "from sklearn.tree import DecisionTreeClassifier\n",
        "model=DecisionTreeClassifier()"
      ],
      "metadata": {
        "id": "Bz4iB074-JwZ"
      },
      "execution_count": 345,
      "outputs": []
    },
    {
      "cell_type": "code",
      "source": [
        "x_train,x_test,y_train,y_test=train_test_split(x,y,test_size=.25,random_state=0)"
      ],
      "metadata": {
        "id": "bFa1m0VfAWcL"
      },
      "execution_count": 351,
      "outputs": []
    },
    {
      "cell_type": "code",
      "source": [
        "model.fit(x_train,y_train)"
      ],
      "metadata": {
        "colab": {
          "base_uri": "https://localhost:8080/"
        },
        "id": "Xj4tPZRvAnQ3",
        "outputId": "06ac1bc9-2829-4ee7-cf41-4c995cebbf64"
      },
      "execution_count": 352,
      "outputs": [
        {
          "output_type": "execute_result",
          "data": {
            "text/plain": [
              "DecisionTreeClassifier()"
            ]
          },
          "metadata": {},
          "execution_count": 352
        }
      ]
    },
    {
      "cell_type": "code",
      "source": [
        "pre = model.predict(x_test)\n",
        "model.predict_proba(x_test)"
      ],
      "metadata": {
        "id": "-n5mj2jPAEyW"
      },
      "execution_count": null,
      "outputs": []
    },
    {
      "cell_type": "code",
      "source": [
        "from  sklearn.metrics import accuracy_score,confusion_matrix,classification_report"
      ],
      "metadata": {
        "id": "WVY3cKHCAwdw"
      },
      "execution_count": 354,
      "outputs": []
    },
    {
      "cell_type": "code",
      "source": [
        "accuracy_score(y_test,pre)"
      ],
      "metadata": {
        "colab": {
          "base_uri": "https://localhost:8080/"
        },
        "id": "7Gpuab9bE-XV",
        "outputId": "ec960228-c646-4c38-d2ce-bef97522f21b"
      },
      "execution_count": 356,
      "outputs": [
        {
          "output_type": "execute_result",
          "data": {
            "text/plain": [
              "0.96"
            ]
          },
          "metadata": {},
          "execution_count": 356
        }
      ]
    },
    {
      "cell_type": "code",
      "source": [
        "confusion_matrix(y_test,pre)"
      ],
      "metadata": {
        "colab": {
          "base_uri": "https://localhost:8080/"
        },
        "id": "N0cUlUNqFFyz",
        "outputId": "578afa14-efd9-4f4b-d2c9-dfcf316b3feb"
      },
      "execution_count": 357,
      "outputs": [
        {
          "output_type": "execute_result",
          "data": {
            "text/plain": [
              "array([[92,  3],\n",
              "       [ 2, 28]])"
            ]
          },
          "metadata": {},
          "execution_count": 357
        }
      ]
    },
    {
      "cell_type": "code",
      "source": [
        "m = classification_report(y_test,pre)\n",
        "print(m)"
      ],
      "metadata": {
        "colab": {
          "base_uri": "https://localhost:8080/"
        },
        "id": "ueByWhCrFJ1n",
        "outputId": "63b51bff-10c8-4c5f-d28e-eba04bfdae8e"
      },
      "execution_count": 361,
      "outputs": [
        {
          "output_type": "stream",
          "name": "stdout",
          "text": [
            "              precision    recall  f1-score   support\n",
            "\n",
            "         0.0       0.98      0.97      0.97        95\n",
            "         1.0       0.90      0.93      0.92        30\n",
            "\n",
            "    accuracy                           0.96       125\n",
            "   macro avg       0.94      0.95      0.95       125\n",
            "weighted avg       0.96      0.96      0.96       125\n",
            "\n"
          ]
        }
      ]
    },
    {
      "cell_type": "code",
      "source": [
        "from sklearn import decomposition, datasets\n",
        "from sklearn import tree\n",
        "from sklearn.pipeline import Pipeline\n",
        "from sklearn.model_selection import GridSearchCV, cross_val_score\n",
        "from sklearn.preprocessing import StandardScaler"
      ],
      "metadata": {
        "id": "yq4CimhdFW0B"
      },
      "execution_count": 362,
      "outputs": []
    },
    {
      "cell_type": "code",
      "source": [
        "pca=decomposition.PCA()\n",
        "sc=StandardScaler()"
      ],
      "metadata": {
        "id": "sBZuAjAwFbqn"
      },
      "execution_count": 363,
      "outputs": []
    },
    {
      "cell_type": "code",
      "source": [
        "df=tree.DecisionTreeClassifier()"
      ],
      "metadata": {
        "id": "5MBEQvliFfdC"
      },
      "execution_count": 364,
      "outputs": []
    },
    {
      "cell_type": "code",
      "source": [
        "pipe=Pipeline(steps=[('sc',sc),('pca',pca),('df',df)])"
      ],
      "metadata": {
        "id": "ShD9njiaFkZ6"
      },
      "execution_count": 365,
      "outputs": []
    },
    {
      "cell_type": "code",
      "source": [
        "n_components=list(range(1,x.shape[1]+1,1))"
      ],
      "metadata": {
        "id": "PnBWyCVmFs8f"
      },
      "execution_count": 366,
      "outputs": []
    },
    {
      "cell_type": "code",
      "source": [
        "criterion=['gini','entropy']\n",
        "max_depth=[1,2,3,4,5]"
      ],
      "metadata": {
        "id": "_82j25QWFvfd"
      },
      "execution_count": 367,
      "outputs": []
    },
    {
      "cell_type": "code",
      "source": [
        "p=dict(pca__n_components=n_components,df__criterion=criterion,df__max_depth=max_depth)"
      ],
      "metadata": {
        "id": "xCnMbLM-FzuB"
      },
      "execution_count": 373,
      "outputs": []
    },
    {
      "cell_type": "code",
      "source": [
        "clf=GridSearchCV(pipe,p)"
      ],
      "metadata": {
        "id": "bkJafLiIF3pT"
      },
      "execution_count": 374,
      "outputs": []
    },
    {
      "cell_type": "code",
      "source": [
        "clf.fit(x,y)"
      ],
      "metadata": {
        "colab": {
          "base_uri": "https://localhost:8080/"
        },
        "id": "m7EsukVmF6ki",
        "outputId": "bd1f145a-6278-4c6c-f0cd-d66015409b04"
      },
      "execution_count": 375,
      "outputs": [
        {
          "output_type": "execute_result",
          "data": {
            "text/plain": [
              "GridSearchCV(estimator=Pipeline(steps=[('sc', StandardScaler()), ('pca', PCA()),\n",
              "                                       ('df', DecisionTreeClassifier())]),\n",
              "             param_grid={'df__criterion': ['gini', 'entropy'],\n",
              "                         'df__max_depth': [1, 2, 3, 4, 5],\n",
              "                         'pca__n_components': [1, 2, 3, 4, 5, 6, 7]})"
            ]
          },
          "metadata": {},
          "execution_count": 375
        }
      ]
    },
    {
      "cell_type": "code",
      "source": [
        "print('Best max_depth: ',clf.best_estimator_.get_params()['df__max_depth'])\n"
      ],
      "metadata": {
        "colab": {
          "base_uri": "https://localhost:8080/"
        },
        "id": "-wEyeKMLGRmC",
        "outputId": "0ef76769-33d5-49a7-f9b0-a6f8b5ba8c79"
      },
      "execution_count": 376,
      "outputs": [
        {
          "output_type": "stream",
          "name": "stdout",
          "text": [
            "Best max_depth:  1\n"
          ]
        }
      ]
    },
    {
      "cell_type": "code",
      "source": [
        "print('Best Criterion: ',clf.best_estimator_.get_params()['df__criterion'])"
      ],
      "metadata": {
        "colab": {
          "base_uri": "https://localhost:8080/"
        },
        "id": "9FMM3uUxGUaL",
        "outputId": "cdceea58-b8c2-4787-a467-4156a3826bf9"
      },
      "execution_count": 377,
      "outputs": [
        {
          "output_type": "stream",
          "name": "stdout",
          "text": [
            "Best Criterion:  gini\n"
          ]
        }
      ]
    },
    {
      "cell_type": "code",
      "source": [
        "print(clf.best_estimator_.get_params()['df'])"
      ],
      "metadata": {
        "colab": {
          "base_uri": "https://localhost:8080/"
        },
        "id": "4zucsny2GYoy",
        "outputId": "1ccb7694-5684-4409-a273-ca954c88538b"
      },
      "execution_count": 378,
      "outputs": [
        {
          "output_type": "stream",
          "name": "stdout",
          "text": [
            "DecisionTreeClassifier(max_depth=1)\n"
          ]
        }
      ]
    },
    {
      "cell_type": "code",
      "source": [
        "CV_result=cross_val_score(clf,x,y,cv=4, n_jobs=-1)"
      ],
      "metadata": {
        "id": "cAdjdUB1Gdn8"
      },
      "execution_count": 379,
      "outputs": []
    },
    {
      "cell_type": "code",
      "source": [
        "print(CV_result)\n",
        "print(CV_result.mean())\n",
        "print(CV_result.std())\n"
      ],
      "metadata": {
        "colab": {
          "base_uri": "https://localhost:8080/"
        },
        "id": "2yIPBOqbGhZX",
        "outputId": "11ff6840-8938-480b-b1b1-62048cf980bb"
      },
      "execution_count": 380,
      "outputs": [
        {
          "output_type": "stream",
          "name": "stdout",
          "text": [
            "[0.944 0.904 0.888 0.936]\n",
            "0.9179999999999999\n",
            "0.022891046284519184\n"
          ]
        }
      ]
    },
    {
      "cell_type": "code",
      "source": [
        "from sklearn.metrics import roc_auc_score,auc,roc_curve"
      ],
      "metadata": {
        "id": "tNwBgI8jHLom"
      },
      "execution_count": 384,
      "outputs": []
    },
    {
      "cell_type": "code",
      "source": [
        "y_proba=model.predict_proba(x_test)\n",
        "y_predicted=y_proba[:,1]"
      ],
      "metadata": {
        "id": "jD7sGJTNHQHQ"
      },
      "execution_count": 387,
      "outputs": []
    },
    {
      "cell_type": "code",
      "source": [
        "fpr,tpr,thresholds=roc_curve(y_test,y_predicted)"
      ],
      "metadata": {
        "id": "_5BaMUfaHGI3"
      },
      "execution_count": 388,
      "outputs": []
    },
    {
      "cell_type": "code",
      "source": [
        "roc_auc=auc(fpr,tpr)\n",
        "print(roc_auc)"
      ],
      "metadata": {
        "colab": {
          "base_uri": "https://localhost:8080/"
        },
        "id": "Iq3AEnUgHn6g",
        "outputId": "0eb6f772-4d58-4481-9c90-3811400f17cc"
      },
      "execution_count": 417,
      "outputs": [
        {
          "output_type": "stream",
          "name": "stdout",
          "text": [
            "0.9933333333333334\n"
          ]
        }
      ]
    },
    {
      "cell_type": "code",
      "source": [
        "import matplotlib.pyplot as plt\n",
        "plt.figure()\n",
        "plt.plot(fpr,tpr,color='orange',label='ROC'%roc_auc)\n",
        "plt.plot([0,1],[0,1],color='blue',linestyle='--')\n",
        "plt.xlim([0.0,1.0])\n",
        "plt.ylim([0.0,1.0])\n",
        "plt.xlabel('False Positive Rate 1-(specificity)')\n",
        "plt.ylabel('True Positive Rate(sensitivity')"
      ],
      "metadata": {
        "colab": {
          "base_uri": "https://localhost:8080/",
          "height": 300
        },
        "id": "Nqj-jrbJGpjs",
        "outputId": "82faa412-4d57-475c-8cd8-44333cedd0c4"
      },
      "execution_count": 391,
      "outputs": [
        {
          "output_type": "execute_result",
          "data": {
            "text/plain": [
              "Text(0, 0.5, 'True Positive Rate(sensitivity')"
            ]
          },
          "metadata": {},
          "execution_count": 391
        },
        {
          "output_type": "display_data",
          "data": {
            "text/plain": [
              "<Figure size 432x288 with 1 Axes>"
            ],
            "image/png": "[encoded data removed]"
          },
          "metadata": {
            "needs_background": "light"
          }
        }
      ]
    },
    {
      "cell_type": "markdown",
      "source": [
        "**Q.6 Build a Random Forest classifier, to predict whether a \n",
        "student has a low or high chance of admission to a chosen \n",
        "university**"
      ],
      "metadata": {
        "id": "aHEeZXH64eMt"
      }
    },
    {
      "cell_type": "code",
      "source": [
        "from sklearn.ensemble import RandomForestClassifier\n"
      ],
      "metadata": {
        "id": "ZyV15Rre4hcB"
      },
      "execution_count": 392,
      "outputs": []
    },
    {
      "cell_type": "code",
      "source": [
        "model = RandomForestClassifier()"
      ],
      "metadata": {
        "id": "NXCbMhQnH06w"
      },
      "execution_count": 393,
      "outputs": []
    },
    {
      "cell_type": "code",
      "source": [
        "model.fit(x_train,y_train)"
      ],
      "metadata": {
        "colab": {
          "base_uri": "https://localhost:8080/"
        },
        "id": "iZ3AQplU5LUI",
        "outputId": "d1413756-a835-40d2-b439-6e8706803a51"
      },
      "execution_count": 394,
      "outputs": [
        {
          "output_type": "execute_result",
          "data": {
            "text/plain": [
              "RandomForestClassifier()"
            ]
          },
          "metadata": {},
          "execution_count": 394
        }
      ]
    },
    {
      "cell_type": "code",
      "source": [
        "pre = model.predict(x_test)"
      ],
      "metadata": {
        "id": "HTn8WBQy8T-g"
      },
      "execution_count": 396,
      "outputs": []
    },
    {
      "cell_type": "code",
      "source": [
        "accuracy_score(y_test,pre)"
      ],
      "metadata": {
        "colab": {
          "base_uri": "https://localhost:8080/"
        },
        "id": "HDoo2ACO9so6",
        "outputId": "45ce4eb3-d1de-42f4-c78a-c7c94b0f22cf"
      },
      "execution_count": 397,
      "outputs": [
        {
          "output_type": "execute_result",
          "data": {
            "text/plain": [
              "0.96"
            ]
          },
          "metadata": {},
          "execution_count": 397
        }
      ]
    },
    {
      "cell_type": "code",
      "source": [
        "confusion_matrix(y_test,pre)"
      ],
      "metadata": {
        "colab": {
          "base_uri": "https://localhost:8080/"
        },
        "id": "q87wQ2pWINRs",
        "outputId": "5223a265-23f5-478f-d3ad-ed912acff2d7"
      },
      "execution_count": 398,
      "outputs": [
        {
          "output_type": "execute_result",
          "data": {
            "text/plain": [
              "array([[92,  3],\n",
              "       [ 2, 28]])"
            ]
          },
          "metadata": {},
          "execution_count": 398
        }
      ]
    },
    {
      "cell_type": "code",
      "source": [
        "c = classification_report(y_test,pre)\n",
        "print(c)"
      ],
      "metadata": {
        "colab": {
          "base_uri": "https://localhost:8080/"
        },
        "id": "JvlzlpyPIVN7",
        "outputId": "efe300f8-61fb-4c5c-d97c-618b5a5d0903"
      },
      "execution_count": 403,
      "outputs": [
        {
          "output_type": "stream",
          "name": "stdout",
          "text": [
            "              precision    recall  f1-score   support\n",
            "\n",
            "         0.0       0.98      0.97      0.97        95\n",
            "         1.0       0.90      0.93      0.92        30\n",
            "\n",
            "    accuracy                           0.96       125\n",
            "   macro avg       0.94      0.95      0.95       125\n",
            "weighted avg       0.96      0.96      0.96       125\n",
            "\n"
          ]
        }
      ]
    },
    {
      "cell_type": "code",
      "source": [
        "from sklearn.metrics import roc_auc_score,auc,roc_curve"
      ],
      "metadata": {
        "id": "dSO-bEkV5X_x"
      },
      "execution_count": 404,
      "outputs": []
    },
    {
      "cell_type": "code",
      "source": [
        "y_proba=model.predict_proba(x_test)\n",
        "y_predicted=y_proba[:,1]"
      ],
      "metadata": {
        "id": "GakvJ5pY5e0v"
      },
      "execution_count": 405,
      "outputs": []
    },
    {
      "cell_type": "code",
      "source": [
        "fpr,tpr,thresholds=roc_curve(y_test,y_predicted)"
      ],
      "metadata": {
        "id": "wZ6GNe1M7vwD"
      },
      "execution_count": 406,
      "outputs": []
    },
    {
      "cell_type": "code",
      "source": [
        "roc_auc=auc(fpr,tpr)\n",
        "print(roc_auc)"
      ],
      "metadata": {
        "colab": {
          "base_uri": "https://localhost:8080/"
        },
        "id": "C-n2l5pP8EPl",
        "outputId": "3ea6cd71-f20e-406d-df80-7fb4a1ea76ea"
      },
      "execution_count": 407,
      "outputs": [
        {
          "output_type": "stream",
          "name": "stdout",
          "text": [
            "0.9933333333333334\n"
          ]
        }
      ]
    },
    {
      "cell_type": "code",
      "source": [
        "import matplotlib.pyplot as plt\n",
        "plt.figure()\n",
        "plt.plot(fpr,tpr,color='orange',label='ROC'%roc_auc)\n",
        "plt.plot([0,1],[0,1],color='blue',linestyle='--')\n",
        "plt.xlim([0.0,1.0])\n",
        "plt.ylim([0.0,1.0])\n",
        "plt.xlabel('False Positive Rate 1-(specificity)')\n",
        "plt.ylabel('True Positive Rate(sensitivity')"
      ],
      "metadata": {
        "colab": {
          "base_uri": "https://localhost:8080/",
          "height": 300
        },
        "id": "9KstFC1QI1tm",
        "outputId": "7fcdd811-0732-4bce-fb30-874d2c95b5a4"
      },
      "execution_count": 408,
      "outputs": [
        {
          "output_type": "execute_result",
          "data": {
            "text/plain": [
              "Text(0, 0.5, 'True Positive Rate(sensitivity')"
            ]
          },
          "metadata": {},
          "execution_count": 408
        },
        {
          "output_type": "display_data",
          "data": {
            "text/plain": [
              "<Figure size 432x288 with 1 Axes>"
            ],
            "image/png": "[encoded data removed]"
          },
          "metadata": {
            "needs_background": "light"
          }
        }
      ]
    },
    {
      "cell_type": "markdown",
      "source": [
        "**Q.7 Also use Ensemble Modelling techniques, to predict \n",
        "whether a student has a low or high chance of admission \n",
        "to a chosen university**"
      ],
      "metadata": {
        "id": "_sVZeil_Jbu4"
      }
    },
    {
      "cell_type": "code",
      "source": [
        "#Generate a count plot for the target variable (Chance of Admit )\n",
        "# 0 is low chance of admit and 1 is high chance of admit\n",
        "import seaborn as sns\n",
        "sns.countplot(x='Chance of Admit ',data=data)"
      ],
      "metadata": {
        "colab": {
          "base_uri": "https://localhost:8080/",
          "height": 296
        },
        "id": "mhmEG0YBI8Oe",
        "outputId": "31312853-8b29-4728-b6ac-c14a9475953a"
      },
      "execution_count": 414,
      "outputs": [
        {
          "output_type": "execute_result",
          "data": {
            "text/plain": [
              "<matplotlib.axes._subplots.AxesSubplot at 0x7fa04e067090>"
            ]
          },
          "metadata": {},
          "execution_count": 414
        },
        {
          "output_type": "display_data",
          "data": {
            "text/plain": [
              "<Figure size 432x288 with 1 Axes>"
            ],
            "image/png": "[encoded data removed]"
          },
          "metadata": {
            "needs_background": "light"
          }
        }
      ]
    },
    {
      "cell_type": "code",
      "source": [
        "from sklearn.linear_model import LogisticRegression\n",
        "from sklearn.svm import SVC\n",
        "from sklearn.linear_model import SGDClassifier\n",
        "\n",
        "from sklearn.metrics import accuracy_score\n",
        "\n",
        "log_classifier =  LogisticRegression()\n",
        "sv_classifier = SVC()\n",
        "sgd_classifier = SGDClassifier()\n",
        "\n",
        "\n",
        "def classifiers(clf1, clf2, clf3, x_train,y_train):\n",
        "    clfs = [clf1, clf2, clf3]\n",
        "    all_clfs_acc = []\n",
        "    for clf in clfs:\n",
        "        clf.fit(xtrain, ytrain)\n",
        "        preds = clf.predict(xtrain)\n",
        "        acc = accuracy_score(ytrain,preds)\n",
        "        acc = acc.tolist()\n",
        "        all_clfs_acc.append(acc)\n",
        "    return all_clfs_acc"
      ],
      "metadata": {
        "id": "-DPANUeGLcEp"
      },
      "execution_count": 428,
      "outputs": []
    },
    {
      "cell_type": "code",
      "source": [
        "import warnings\n",
        "warnings.filterwarnings('ignore')"
      ],
      "metadata": {
        "id": "BnvzEkFNVAz-"
      },
      "execution_count": 429,
      "outputs": []
    },
    {
      "cell_type": "code",
      "source": [
        "classifiers(log_classifier,sv_classifier, sgd_classifier, xtrain, ytrain)\n"
      ],
      "metadata": {
        "colab": {
          "base_uri": "https://localhost:8080/"
        },
        "id": "Eb2oo4-JVE43",
        "outputId": "db5a6953-6068-4875-b94a-65e11d11a672"
      },
      "execution_count": 432,
      "outputs": [
        {
          "output_type": "execute_result",
          "data": {
            "text/plain": [
              "[0.895, 0.8275, 0.815]"
            ]
          },
          "metadata": {},
          "execution_count": 432
        }
      ]
    },
    {
      "cell_type": "code",
      "source": [
        "from sklearn.ensemble import VotingClassifier\n",
        "\n",
        "vot_classifier = VotingClassifier(\n",
        "    \n",
        "    estimators=[('log_reg', log_classifier),\n",
        "                ('svc', sv_classifier),\n",
        "                ('sgd', sgd_classifier)], \n",
        "    voting='hard')\n",
        "\n",
        "vot_classifier.fit(xtrain, ytrain)"
      ],
      "metadata": {
        "colab": {
          "base_uri": "https://localhost:8080/"
        },
        "id": "5go34CQqVYuQ",
        "outputId": "d7479495-4554-4c74-8473-ca2f019a95ac"
      },
      "execution_count": 433,
      "outputs": [
        {
          "output_type": "execute_result",
          "data": {
            "text/plain": [
              "VotingClassifier(estimators=[('log_reg', LogisticRegression()), ('svc', SVC()),\n",
              "                             ('sgd', SGDClassifier())])"
            ]
          },
          "metadata": {},
          "execution_count": 433
        }
      ]
    },
    {
      "cell_type": "markdown",
      "source": [
        "**Q.8 Compare all of the models and justify your choice about \n",
        "the optimum model.**"
      ],
      "metadata": {
        "id": "2hPpD5fPM--4"
      }
    },
    {
      "cell_type": "code",
      "source": [
        "Model = DecisionTreeClassifier"
      ],
      "metadata": {
        "id": "XbTT82jKNBh3"
      },
      "execution_count": null,
      "outputs": []
    },
    {
      "cell_type": "code",
      "source": [
        ""
      ],
      "metadata": {
        "id": "UE8vAdrMW9yl"
      },
      "execution_count": null,
      "outputs": []
    }
  ]
}